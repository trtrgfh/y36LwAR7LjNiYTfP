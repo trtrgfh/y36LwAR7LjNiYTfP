{
  "cells": [
    {
      "cell_type": "markdown",
      "metadata": {
        "id": "view-in-github",
        "colab_type": "text"
      },
      "source": [
        "<a href=\"https://colab.research.google.com/github/trtrgfh/y36LwAR7LjNiYTfP/blob/main/Untitled.ipynb\" target=\"_parent\"><img src=\"https://colab.research.google.com/assets/colab-badge.svg\" alt=\"Open In Colab\"/></a>"
      ]
    },
    {
      "cell_type": "markdown",
      "source": [
        "# Import Libraries"
      ],
      "metadata": {
        "id": "pBFueduWNwFV"
      },
      "id": "pBFueduWNwFV"
    },
    {
      "cell_type": "code",
      "execution_count": 1,
      "id": "d4812030-d870-4d64-9198-da50e882aebd",
      "metadata": {
        "id": "d4812030-d870-4d64-9198-da50e882aebd"
      },
      "outputs": [],
      "source": [
        "import yfinance as yf\n",
        "import numpy as np\n",
        "import matplotlib.pyplot as plt\n",
        "import pandas as pd\n",
        "import math\n",
        "import datetime\n",
        "\n",
        "from statsmodels.tsa.arima.model import ARIMA\n",
        "from sklearn.metrics import mean_squared_error, mean_absolute_error\n",
        "from statsmodels.tsa.statespace.sarimax import SARIMAX\n",
        "from statsmodels.tsa.stattools import adfuller\n",
        "\n",
        "from statsmodels.tsa.api import ExponentialSmoothing\n",
        "from prophet import Prophet\n",
        "\n",
        "import torch\n",
        "import torch.nn as nn\n",
        "from sklearn.preprocessing import MinMaxScaler\n",
        "from keras.models import Sequential\n",
        "from keras.layers import Dense, Dropout, LSTM, Bidirectional\n",
        "\n",
        "# # Find the optimal parameters automatically\n",
        "from pmdarima import auto_arima"
      ]
    },
    {
      "cell_type": "markdown",
      "id": "bb5529b0-fa8d-4ab6-a26e-64f7ccf6d6d6",
      "metadata": {
        "jp-MarkdownHeadingCollapsed": true,
        "id": "bb5529b0-fa8d-4ab6-a26e-64f7ccf6d6d6"
      },
      "source": [
        "# Data Preparing"
      ]
    },
    {
      "cell_type": "code",
      "execution_count": 2,
      "id": "ec5ca3c5-f13e-4c5c-a0c8-0c85561bfb81",
      "metadata": {
        "colab": {
          "base_uri": "https://localhost:8080/",
          "height": 473
        },
        "id": "ec5ca3c5-f13e-4c5c-a0c8-0c85561bfb81",
        "outputId": "a4ed096d-2368-4517-eb5a-5f5fe00f7908"
      },
      "outputs": [
        {
          "output_type": "stream",
          "name": "stdout",
          "text": [
            "\r[*********************100%%**********************]  1 of 1 completed\n"
          ]
        },
        {
          "output_type": "execute_result",
          "data": {
            "text/plain": [
              "                  Open        High         Low       Close   Adj Close  \\\n",
              "Date                                                                     \n",
              "2019-01-02   20.406668   21.008667   19.920000   20.674667   20.674667   \n",
              "2019-01-03   20.466667   20.626667   19.825333   20.024000   20.024000   \n",
              "2019-01-04   20.400000   21.200001   20.181999   21.179333   21.179333   \n",
              "2019-01-07   21.448000   22.449333   21.183332   22.330667   22.330667   \n",
              "2019-01-08   22.797333   22.934000   21.801332   22.356667   22.356667   \n",
              "...                ...         ...         ...         ...         ...   \n",
              "2023-08-01  266.260010  266.470001  260.250000  261.070007  261.070007   \n",
              "2023-08-02  255.570007  259.519989  250.490005  254.110001  254.110001   \n",
              "2023-08-03  252.039993  260.489990  252.000000  259.320007  259.320007   \n",
              "2023-08-04  260.970001  264.769989  253.110001  253.860001  253.860001   \n",
              "2023-08-07  251.449997  253.649994  242.759995  251.449997  251.449997   \n",
              "\n",
              "               Volume  \n",
              "Date                   \n",
              "2019-01-02  174879000  \n",
              "2019-01-03  104478000  \n",
              "2019-01-04  110911500  \n",
              "2019-01-07  113268000  \n",
              "2019-01-08  105127500  \n",
              "...               ...  \n",
              "2023-08-01   83166000  \n",
              "2023-08-02  101752900  \n",
              "2023-08-03   97569100  \n",
              "2023-08-04   99242600  \n",
              "2023-08-07  111097900  \n",
              "\n",
              "[1157 rows x 6 columns]"
            ],
            "text/html": [
              "\n",
              "  <div id=\"df-32ebe988-273d-4d94-83ca-39e8cfdbf5ba\" class=\"colab-df-container\">\n",
              "    <div>\n",
              "<style scoped>\n",
              "    .dataframe tbody tr th:only-of-type {\n",
              "        vertical-align: middle;\n",
              "    }\n",
              "\n",
              "    .dataframe tbody tr th {\n",
              "        vertical-align: top;\n",
              "    }\n",
              "\n",
              "    .dataframe thead th {\n",
              "        text-align: right;\n",
              "    }\n",
              "</style>\n",
              "<table border=\"1\" class=\"dataframe\">\n",
              "  <thead>\n",
              "    <tr style=\"text-align: right;\">\n",
              "      <th></th>\n",
              "      <th>Open</th>\n",
              "      <th>High</th>\n",
              "      <th>Low</th>\n",
              "      <th>Close</th>\n",
              "      <th>Adj Close</th>\n",
              "      <th>Volume</th>\n",
              "    </tr>\n",
              "    <tr>\n",
              "      <th>Date</th>\n",
              "      <th></th>\n",
              "      <th></th>\n",
              "      <th></th>\n",
              "      <th></th>\n",
              "      <th></th>\n",
              "      <th></th>\n",
              "    </tr>\n",
              "  </thead>\n",
              "  <tbody>\n",
              "    <tr>\n",
              "      <th>2019-01-02</th>\n",
              "      <td>20.406668</td>\n",
              "      <td>21.008667</td>\n",
              "      <td>19.920000</td>\n",
              "      <td>20.674667</td>\n",
              "      <td>20.674667</td>\n",
              "      <td>174879000</td>\n",
              "    </tr>\n",
              "    <tr>\n",
              "      <th>2019-01-03</th>\n",
              "      <td>20.466667</td>\n",
              "      <td>20.626667</td>\n",
              "      <td>19.825333</td>\n",
              "      <td>20.024000</td>\n",
              "      <td>20.024000</td>\n",
              "      <td>104478000</td>\n",
              "    </tr>\n",
              "    <tr>\n",
              "      <th>2019-01-04</th>\n",
              "      <td>20.400000</td>\n",
              "      <td>21.200001</td>\n",
              "      <td>20.181999</td>\n",
              "      <td>21.179333</td>\n",
              "      <td>21.179333</td>\n",
              "      <td>110911500</td>\n",
              "    </tr>\n",
              "    <tr>\n",
              "      <th>2019-01-07</th>\n",
              "      <td>21.448000</td>\n",
              "      <td>22.449333</td>\n",
              "      <td>21.183332</td>\n",
              "      <td>22.330667</td>\n",
              "      <td>22.330667</td>\n",
              "      <td>113268000</td>\n",
              "    </tr>\n",
              "    <tr>\n",
              "      <th>2019-01-08</th>\n",
              "      <td>22.797333</td>\n",
              "      <td>22.934000</td>\n",
              "      <td>21.801332</td>\n",
              "      <td>22.356667</td>\n",
              "      <td>22.356667</td>\n",
              "      <td>105127500</td>\n",
              "    </tr>\n",
              "    <tr>\n",
              "      <th>...</th>\n",
              "      <td>...</td>\n",
              "      <td>...</td>\n",
              "      <td>...</td>\n",
              "      <td>...</td>\n",
              "      <td>...</td>\n",
              "      <td>...</td>\n",
              "    </tr>\n",
              "    <tr>\n",
              "      <th>2023-08-01</th>\n",
              "      <td>266.260010</td>\n",
              "      <td>266.470001</td>\n",
              "      <td>260.250000</td>\n",
              "      <td>261.070007</td>\n",
              "      <td>261.070007</td>\n",
              "      <td>83166000</td>\n",
              "    </tr>\n",
              "    <tr>\n",
              "      <th>2023-08-02</th>\n",
              "      <td>255.570007</td>\n",
              "      <td>259.519989</td>\n",
              "      <td>250.490005</td>\n",
              "      <td>254.110001</td>\n",
              "      <td>254.110001</td>\n",
              "      <td>101752900</td>\n",
              "    </tr>\n",
              "    <tr>\n",
              "      <th>2023-08-03</th>\n",
              "      <td>252.039993</td>\n",
              "      <td>260.489990</td>\n",
              "      <td>252.000000</td>\n",
              "      <td>259.320007</td>\n",
              "      <td>259.320007</td>\n",
              "      <td>97569100</td>\n",
              "    </tr>\n",
              "    <tr>\n",
              "      <th>2023-08-04</th>\n",
              "      <td>260.970001</td>\n",
              "      <td>264.769989</td>\n",
              "      <td>253.110001</td>\n",
              "      <td>253.860001</td>\n",
              "      <td>253.860001</td>\n",
              "      <td>99242600</td>\n",
              "    </tr>\n",
              "    <tr>\n",
              "      <th>2023-08-07</th>\n",
              "      <td>251.449997</td>\n",
              "      <td>253.649994</td>\n",
              "      <td>242.759995</td>\n",
              "      <td>251.449997</td>\n",
              "      <td>251.449997</td>\n",
              "      <td>111097900</td>\n",
              "    </tr>\n",
              "  </tbody>\n",
              "</table>\n",
              "<p>1157 rows × 6 columns</p>\n",
              "</div>\n",
              "    <div class=\"colab-df-buttons\">\n",
              "\n",
              "  <div class=\"colab-df-container\">\n",
              "    <button class=\"colab-df-convert\" onclick=\"convertToInteractive('df-32ebe988-273d-4d94-83ca-39e8cfdbf5ba')\"\n",
              "            title=\"Convert this dataframe to an interactive table.\"\n",
              "            style=\"display:none;\">\n",
              "\n",
              "  <svg xmlns=\"http://www.w3.org/2000/svg\" height=\"24px\" viewBox=\"0 -960 960 960\">\n",
              "    <path d=\"M120-120v-720h720v720H120Zm60-500h600v-160H180v160Zm220 220h160v-160H400v160Zm0 220h160v-160H400v160ZM180-400h160v-160H180v160Zm440 0h160v-160H620v160ZM180-180h160v-160H180v160Zm440 0h160v-160H620v160Z\"/>\n",
              "  </svg>\n",
              "    </button>\n",
              "\n",
              "  <style>\n",
              "    .colab-df-container {\n",
              "      display:flex;\n",
              "      gap: 12px;\n",
              "    }\n",
              "\n",
              "    .colab-df-convert {\n",
              "      background-color: #E8F0FE;\n",
              "      border: none;\n",
              "      border-radius: 50%;\n",
              "      cursor: pointer;\n",
              "      display: none;\n",
              "      fill: #1967D2;\n",
              "      height: 32px;\n",
              "      padding: 0 0 0 0;\n",
              "      width: 32px;\n",
              "    }\n",
              "\n",
              "    .colab-df-convert:hover {\n",
              "      background-color: #E2EBFA;\n",
              "      box-shadow: 0px 1px 2px rgba(60, 64, 67, 0.3), 0px 1px 3px 1px rgba(60, 64, 67, 0.15);\n",
              "      fill: #174EA6;\n",
              "    }\n",
              "\n",
              "    .colab-df-buttons div {\n",
              "      margin-bottom: 4px;\n",
              "    }\n",
              "\n",
              "    [theme=dark] .colab-df-convert {\n",
              "      background-color: #3B4455;\n",
              "      fill: #D2E3FC;\n",
              "    }\n",
              "\n",
              "    [theme=dark] .colab-df-convert:hover {\n",
              "      background-color: #434B5C;\n",
              "      box-shadow: 0px 1px 3px 1px rgba(0, 0, 0, 0.15);\n",
              "      filter: drop-shadow(0px 1px 2px rgba(0, 0, 0, 0.3));\n",
              "      fill: #FFFFFF;\n",
              "    }\n",
              "  </style>\n",
              "\n",
              "    <script>\n",
              "      const buttonEl =\n",
              "        document.querySelector('#df-32ebe988-273d-4d94-83ca-39e8cfdbf5ba button.colab-df-convert');\n",
              "      buttonEl.style.display =\n",
              "        google.colab.kernel.accessAllowed ? 'block' : 'none';\n",
              "\n",
              "      async function convertToInteractive(key) {\n",
              "        const element = document.querySelector('#df-32ebe988-273d-4d94-83ca-39e8cfdbf5ba');\n",
              "        const dataTable =\n",
              "          await google.colab.kernel.invokeFunction('convertToInteractive',\n",
              "                                                    [key], {});\n",
              "        if (!dataTable) return;\n",
              "\n",
              "        const docLinkHtml = 'Like what you see? Visit the ' +\n",
              "          '<a target=\"_blank\" href=https://colab.research.google.com/notebooks/data_table.ipynb>data table notebook</a>'\n",
              "          + ' to learn more about interactive tables.';\n",
              "        element.innerHTML = '';\n",
              "        dataTable['output_type'] = 'display_data';\n",
              "        await google.colab.output.renderOutput(dataTable, element);\n",
              "        const docLink = document.createElement('div');\n",
              "        docLink.innerHTML = docLinkHtml;\n",
              "        element.appendChild(docLink);\n",
              "      }\n",
              "    </script>\n",
              "  </div>\n",
              "\n",
              "\n",
              "<div id=\"df-dd88b2b6-0a3f-4603-aeaf-a4ab84e389fb\">\n",
              "  <button class=\"colab-df-quickchart\" onclick=\"quickchart('df-dd88b2b6-0a3f-4603-aeaf-a4ab84e389fb')\"\n",
              "            title=\"Suggest charts.\"\n",
              "            style=\"display:none;\">\n",
              "\n",
              "<svg xmlns=\"http://www.w3.org/2000/svg\" height=\"24px\"viewBox=\"0 0 24 24\"\n",
              "     width=\"24px\">\n",
              "    <g>\n",
              "        <path d=\"M19 3H5c-1.1 0-2 .9-2 2v14c0 1.1.9 2 2 2h14c1.1 0 2-.9 2-2V5c0-1.1-.9-2-2-2zM9 17H7v-7h2v7zm4 0h-2V7h2v10zm4 0h-2v-4h2v4z\"/>\n",
              "    </g>\n",
              "</svg>\n",
              "  </button>\n",
              "\n",
              "<style>\n",
              "  .colab-df-quickchart {\n",
              "    background-color: #E8F0FE;\n",
              "    border: none;\n",
              "    border-radius: 50%;\n",
              "    cursor: pointer;\n",
              "    display: none;\n",
              "    fill: #1967D2;\n",
              "    height: 32px;\n",
              "    padding: 0 0 0 0;\n",
              "    width: 32px;\n",
              "  }\n",
              "\n",
              "  .colab-df-quickchart:hover {\n",
              "    background-color: #E2EBFA;\n",
              "    box-shadow: 0px 1px 2px rgba(60, 64, 67, 0.3), 0px 1px 3px 1px rgba(60, 64, 67, 0.15);\n",
              "    fill: #174EA6;\n",
              "  }\n",
              "\n",
              "  [theme=dark] .colab-df-quickchart {\n",
              "    background-color: #3B4455;\n",
              "    fill: #D2E3FC;\n",
              "  }\n",
              "\n",
              "  [theme=dark] .colab-df-quickchart:hover {\n",
              "    background-color: #434B5C;\n",
              "    box-shadow: 0px 1px 3px 1px rgba(0, 0, 0, 0.15);\n",
              "    filter: drop-shadow(0px 1px 2px rgba(0, 0, 0, 0.3));\n",
              "    fill: #FFFFFF;\n",
              "  }\n",
              "</style>\n",
              "\n",
              "  <script>\n",
              "    async function quickchart(key) {\n",
              "      const charts = await google.colab.kernel.invokeFunction(\n",
              "          'suggestCharts', [key], {});\n",
              "    }\n",
              "    (() => {\n",
              "      let quickchartButtonEl =\n",
              "        document.querySelector('#df-dd88b2b6-0a3f-4603-aeaf-a4ab84e389fb button');\n",
              "      quickchartButtonEl.style.display =\n",
              "        google.colab.kernel.accessAllowed ? 'block' : 'none';\n",
              "    })();\n",
              "  </script>\n",
              "</div>\n",
              "    </div>\n",
              "  </div>\n"
            ]
          },
          "metadata": {},
          "execution_count": 2
        }
      ],
      "source": [
        "symbol = \"TSLA\"\n",
        "start_date = datetime.datetime(2019, 1, 1)\n",
        "end_date = datetime.datetime(2023, 8, 8)\n",
        "\n",
        "df = yf.download(symbol, start=start_date, end=end_date)\n",
        "df"
      ]
    },
    {
      "cell_type": "code",
      "source": [
        "# Get Bollinger Bands\n",
        "days = 100\n",
        "price = df[['Adj Close']]\n",
        "sma = price.rolling(days).mean()\n",
        "sma = sma.iloc[days:]\n",
        "rstd_price = price.rolling(days).std()\n",
        "rstd_price = rstd_price.iloc[days:]\n",
        "upper_band = sma + 2 * rstd_price\n",
        "lower_band = sma - 2 * rstd_price"
      ],
      "metadata": {
        "id": "OXR6vFBd2mlU"
      },
      "id": "OXR6vFBd2mlU",
      "execution_count": 3,
      "outputs": []
    },
    {
      "cell_type": "code",
      "source": [
        "start_date = datetime.datetime(2020, 1, 1)\n",
        "mask = (df.index > start_date) & (df.index <= end_date)\n",
        "df = df.loc[mask]\n",
        "df"
      ],
      "metadata": {
        "id": "hSdUHNta5rR1",
        "outputId": "d687a042-ffd7-4db1-cdc7-b63747254818",
        "colab": {
          "base_uri": "https://localhost:8080/",
          "height": 455
        }
      },
      "id": "hSdUHNta5rR1",
      "execution_count": 4,
      "outputs": [
        {
          "output_type": "execute_result",
          "data": {
            "text/plain": [
              "                  Open        High         Low       Close   Adj Close  \\\n",
              "Date                                                                     \n",
              "2020-01-02   28.299999   28.713333   28.114000   28.684000   28.684000   \n",
              "2020-01-03   29.366667   30.266666   29.128000   29.534000   29.534000   \n",
              "2020-01-06   29.364668   30.104000   29.333332   30.102667   30.102667   \n",
              "2020-01-07   30.760000   31.441999   30.224001   31.270666   31.270666   \n",
              "2020-01-08   31.580000   33.232666   31.215334   32.809334   32.809334   \n",
              "...                ...         ...         ...         ...         ...   \n",
              "2023-08-01  266.260010  266.470001  260.250000  261.070007  261.070007   \n",
              "2023-08-02  255.570007  259.519989  250.490005  254.110001  254.110001   \n",
              "2023-08-03  252.039993  260.489990  252.000000  259.320007  259.320007   \n",
              "2023-08-04  260.970001  264.769989  253.110001  253.860001  253.860001   \n",
              "2023-08-07  251.449997  253.649994  242.759995  251.449997  251.449997   \n",
              "\n",
              "               Volume  \n",
              "Date                   \n",
              "2020-01-02  142981500  \n",
              "2020-01-03  266677500  \n",
              "2020-01-06  151995000  \n",
              "2020-01-07  268231500  \n",
              "2020-01-08  467164500  \n",
              "...               ...  \n",
              "2023-08-01   83166000  \n",
              "2023-08-02  101752900  \n",
              "2023-08-03   97569100  \n",
              "2023-08-04   99242600  \n",
              "2023-08-07  111097900  \n",
              "\n",
              "[905 rows x 6 columns]"
            ],
            "text/html": [
              "\n",
              "  <div id=\"df-bb55ba82-2569-48a2-be4c-ecac5e3ad3ba\" class=\"colab-df-container\">\n",
              "    <div>\n",
              "<style scoped>\n",
              "    .dataframe tbody tr th:only-of-type {\n",
              "        vertical-align: middle;\n",
              "    }\n",
              "\n",
              "    .dataframe tbody tr th {\n",
              "        vertical-align: top;\n",
              "    }\n",
              "\n",
              "    .dataframe thead th {\n",
              "        text-align: right;\n",
              "    }\n",
              "</style>\n",
              "<table border=\"1\" class=\"dataframe\">\n",
              "  <thead>\n",
              "    <tr style=\"text-align: right;\">\n",
              "      <th></th>\n",
              "      <th>Open</th>\n",
              "      <th>High</th>\n",
              "      <th>Low</th>\n",
              "      <th>Close</th>\n",
              "      <th>Adj Close</th>\n",
              "      <th>Volume</th>\n",
              "    </tr>\n",
              "    <tr>\n",
              "      <th>Date</th>\n",
              "      <th></th>\n",
              "      <th></th>\n",
              "      <th></th>\n",
              "      <th></th>\n",
              "      <th></th>\n",
              "      <th></th>\n",
              "    </tr>\n",
              "  </thead>\n",
              "  <tbody>\n",
              "    <tr>\n",
              "      <th>2020-01-02</th>\n",
              "      <td>28.299999</td>\n",
              "      <td>28.713333</td>\n",
              "      <td>28.114000</td>\n",
              "      <td>28.684000</td>\n",
              "      <td>28.684000</td>\n",
              "      <td>142981500</td>\n",
              "    </tr>\n",
              "    <tr>\n",
              "      <th>2020-01-03</th>\n",
              "      <td>29.366667</td>\n",
              "      <td>30.266666</td>\n",
              "      <td>29.128000</td>\n",
              "      <td>29.534000</td>\n",
              "      <td>29.534000</td>\n",
              "      <td>266677500</td>\n",
              "    </tr>\n",
              "    <tr>\n",
              "      <th>2020-01-06</th>\n",
              "      <td>29.364668</td>\n",
              "      <td>30.104000</td>\n",
              "      <td>29.333332</td>\n",
              "      <td>30.102667</td>\n",
              "      <td>30.102667</td>\n",
              "      <td>151995000</td>\n",
              "    </tr>\n",
              "    <tr>\n",
              "      <th>2020-01-07</th>\n",
              "      <td>30.760000</td>\n",
              "      <td>31.441999</td>\n",
              "      <td>30.224001</td>\n",
              "      <td>31.270666</td>\n",
              "      <td>31.270666</td>\n",
              "      <td>268231500</td>\n",
              "    </tr>\n",
              "    <tr>\n",
              "      <th>2020-01-08</th>\n",
              "      <td>31.580000</td>\n",
              "      <td>33.232666</td>\n",
              "      <td>31.215334</td>\n",
              "      <td>32.809334</td>\n",
              "      <td>32.809334</td>\n",
              "      <td>467164500</td>\n",
              "    </tr>\n",
              "    <tr>\n",
              "      <th>...</th>\n",
              "      <td>...</td>\n",
              "      <td>...</td>\n",
              "      <td>...</td>\n",
              "      <td>...</td>\n",
              "      <td>...</td>\n",
              "      <td>...</td>\n",
              "    </tr>\n",
              "    <tr>\n",
              "      <th>2023-08-01</th>\n",
              "      <td>266.260010</td>\n",
              "      <td>266.470001</td>\n",
              "      <td>260.250000</td>\n",
              "      <td>261.070007</td>\n",
              "      <td>261.070007</td>\n",
              "      <td>83166000</td>\n",
              "    </tr>\n",
              "    <tr>\n",
              "      <th>2023-08-02</th>\n",
              "      <td>255.570007</td>\n",
              "      <td>259.519989</td>\n",
              "      <td>250.490005</td>\n",
              "      <td>254.110001</td>\n",
              "      <td>254.110001</td>\n",
              "      <td>101752900</td>\n",
              "    </tr>\n",
              "    <tr>\n",
              "      <th>2023-08-03</th>\n",
              "      <td>252.039993</td>\n",
              "      <td>260.489990</td>\n",
              "      <td>252.000000</td>\n",
              "      <td>259.320007</td>\n",
              "      <td>259.320007</td>\n",
              "      <td>97569100</td>\n",
              "    </tr>\n",
              "    <tr>\n",
              "      <th>2023-08-04</th>\n",
              "      <td>260.970001</td>\n",
              "      <td>264.769989</td>\n",
              "      <td>253.110001</td>\n",
              "      <td>253.860001</td>\n",
              "      <td>253.860001</td>\n",
              "      <td>99242600</td>\n",
              "    </tr>\n",
              "    <tr>\n",
              "      <th>2023-08-07</th>\n",
              "      <td>251.449997</td>\n",
              "      <td>253.649994</td>\n",
              "      <td>242.759995</td>\n",
              "      <td>251.449997</td>\n",
              "      <td>251.449997</td>\n",
              "      <td>111097900</td>\n",
              "    </tr>\n",
              "  </tbody>\n",
              "</table>\n",
              "<p>905 rows × 6 columns</p>\n",
              "</div>\n",
              "    <div class=\"colab-df-buttons\">\n",
              "\n",
              "  <div class=\"colab-df-container\">\n",
              "    <button class=\"colab-df-convert\" onclick=\"convertToInteractive('df-bb55ba82-2569-48a2-be4c-ecac5e3ad3ba')\"\n",
              "            title=\"Convert this dataframe to an interactive table.\"\n",
              "            style=\"display:none;\">\n",
              "\n",
              "  <svg xmlns=\"http://www.w3.org/2000/svg\" height=\"24px\" viewBox=\"0 -960 960 960\">\n",
              "    <path d=\"M120-120v-720h720v720H120Zm60-500h600v-160H180v160Zm220 220h160v-160H400v160Zm0 220h160v-160H400v160ZM180-400h160v-160H180v160Zm440 0h160v-160H620v160ZM180-180h160v-160H180v160Zm440 0h160v-160H620v160Z\"/>\n",
              "  </svg>\n",
              "    </button>\n",
              "\n",
              "  <style>\n",
              "    .colab-df-container {\n",
              "      display:flex;\n",
              "      gap: 12px;\n",
              "    }\n",
              "\n",
              "    .colab-df-convert {\n",
              "      background-color: #E8F0FE;\n",
              "      border: none;\n",
              "      border-radius: 50%;\n",
              "      cursor: pointer;\n",
              "      display: none;\n",
              "      fill: #1967D2;\n",
              "      height: 32px;\n",
              "      padding: 0 0 0 0;\n",
              "      width: 32px;\n",
              "    }\n",
              "\n",
              "    .colab-df-convert:hover {\n",
              "      background-color: #E2EBFA;\n",
              "      box-shadow: 0px 1px 2px rgba(60, 64, 67, 0.3), 0px 1px 3px 1px rgba(60, 64, 67, 0.15);\n",
              "      fill: #174EA6;\n",
              "    }\n",
              "\n",
              "    .colab-df-buttons div {\n",
              "      margin-bottom: 4px;\n",
              "    }\n",
              "\n",
              "    [theme=dark] .colab-df-convert {\n",
              "      background-color: #3B4455;\n",
              "      fill: #D2E3FC;\n",
              "    }\n",
              "\n",
              "    [theme=dark] .colab-df-convert:hover {\n",
              "      background-color: #434B5C;\n",
              "      box-shadow: 0px 1px 3px 1px rgba(0, 0, 0, 0.15);\n",
              "      filter: drop-shadow(0px 1px 2px rgba(0, 0, 0, 0.3));\n",
              "      fill: #FFFFFF;\n",
              "    }\n",
              "  </style>\n",
              "\n",
              "    <script>\n",
              "      const buttonEl =\n",
              "        document.querySelector('#df-bb55ba82-2569-48a2-be4c-ecac5e3ad3ba button.colab-df-convert');\n",
              "      buttonEl.style.display =\n",
              "        google.colab.kernel.accessAllowed ? 'block' : 'none';\n",
              "\n",
              "      async function convertToInteractive(key) {\n",
              "        const element = document.querySelector('#df-bb55ba82-2569-48a2-be4c-ecac5e3ad3ba');\n",
              "        const dataTable =\n",
              "          await google.colab.kernel.invokeFunction('convertToInteractive',\n",
              "                                                    [key], {});\n",
              "        if (!dataTable) return;\n",
              "\n",
              "        const docLinkHtml = 'Like what you see? Visit the ' +\n",
              "          '<a target=\"_blank\" href=https://colab.research.google.com/notebooks/data_table.ipynb>data table notebook</a>'\n",
              "          + ' to learn more about interactive tables.';\n",
              "        element.innerHTML = '';\n",
              "        dataTable['output_type'] = 'display_data';\n",
              "        await google.colab.output.renderOutput(dataTable, element);\n",
              "        const docLink = document.createElement('div');\n",
              "        docLink.innerHTML = docLinkHtml;\n",
              "        element.appendChild(docLink);\n",
              "      }\n",
              "    </script>\n",
              "  </div>\n",
              "\n",
              "\n",
              "<div id=\"df-1c34800c-569f-40c2-803d-a9e9fe42fbf7\">\n",
              "  <button class=\"colab-df-quickchart\" onclick=\"quickchart('df-1c34800c-569f-40c2-803d-a9e9fe42fbf7')\"\n",
              "            title=\"Suggest charts.\"\n",
              "            style=\"display:none;\">\n",
              "\n",
              "<svg xmlns=\"http://www.w3.org/2000/svg\" height=\"24px\"viewBox=\"0 0 24 24\"\n",
              "     width=\"24px\">\n",
              "    <g>\n",
              "        <path d=\"M19 3H5c-1.1 0-2 .9-2 2v14c0 1.1.9 2 2 2h14c1.1 0 2-.9 2-2V5c0-1.1-.9-2-2-2zM9 17H7v-7h2v7zm4 0h-2V7h2v10zm4 0h-2v-4h2v4z\"/>\n",
              "    </g>\n",
              "</svg>\n",
              "  </button>\n",
              "\n",
              "<style>\n",
              "  .colab-df-quickchart {\n",
              "    background-color: #E8F0FE;\n",
              "    border: none;\n",
              "    border-radius: 50%;\n",
              "    cursor: pointer;\n",
              "    display: none;\n",
              "    fill: #1967D2;\n",
              "    height: 32px;\n",
              "    padding: 0 0 0 0;\n",
              "    width: 32px;\n",
              "  }\n",
              "\n",
              "  .colab-df-quickchart:hover {\n",
              "    background-color: #E2EBFA;\n",
              "    box-shadow: 0px 1px 2px rgba(60, 64, 67, 0.3), 0px 1px 3px 1px rgba(60, 64, 67, 0.15);\n",
              "    fill: #174EA6;\n",
              "  }\n",
              "\n",
              "  [theme=dark] .colab-df-quickchart {\n",
              "    background-color: #3B4455;\n",
              "    fill: #D2E3FC;\n",
              "  }\n",
              "\n",
              "  [theme=dark] .colab-df-quickchart:hover {\n",
              "    background-color: #434B5C;\n",
              "    box-shadow: 0px 1px 3px 1px rgba(0, 0, 0, 0.15);\n",
              "    filter: drop-shadow(0px 1px 2px rgba(0, 0, 0, 0.3));\n",
              "    fill: #FFFFFF;\n",
              "  }\n",
              "</style>\n",
              "\n",
              "  <script>\n",
              "    async function quickchart(key) {\n",
              "      const charts = await google.colab.kernel.invokeFunction(\n",
              "          'suggestCharts', [key], {});\n",
              "    }\n",
              "    (() => {\n",
              "      let quickchartButtonEl =\n",
              "        document.querySelector('#df-1c34800c-569f-40c2-803d-a9e9fe42fbf7 button');\n",
              "      quickchartButtonEl.style.display =\n",
              "        google.colab.kernel.accessAllowed ? 'block' : 'none';\n",
              "    })();\n",
              "  </script>\n",
              "</div>\n",
              "    </div>\n",
              "  </div>\n"
            ]
          },
          "metadata": {},
          "execution_count": 4
        }
      ]
    },
    {
      "cell_type": "code",
      "execution_count": 5,
      "id": "05a22b26-c3a1-49db-811a-35163c63dd4a",
      "metadata": {
        "colab": {
          "base_uri": "https://localhost:8080/",
          "height": 508
        },
        "id": "05a22b26-c3a1-49db-811a-35163c63dd4a",
        "outputId": "7e034184-97c0-4084-e21a-8cb42928a398"
      },
      "outputs": [
        {
          "output_type": "display_data",
          "data": {
            "text/plain": [
              "<Figure size 640x480 with 1 Axes>"
            ],
            "image/png": "[encoded data removed]"
          },
          "metadata": {}
        }
      ],
      "source": [
        "plt.plot(df.index, df[\"Adj Close\"])\n",
        "plt.plot(df.index, upper_band.iloc[-905:])\n",
        "plt.plot(df.index, lower_band.iloc[-905:])\n",
        "plt.title(f\"{symbol} Stock Price\")\n",
        "plt.xlabel(\"Dates\")\n",
        "plt.ylabel(\"Closing Price\")\n",
        "plt.xticks(rotation = 45)\n",
        "plt.grid()\n",
        "plt.show()"
      ]
    },
    {
      "cell_type": "code",
      "execution_count": 6,
      "id": "aa4a48ec-b360-4691-a233-187806f987b4",
      "metadata": {
        "colab": {
          "base_uri": "https://localhost:8080/"
        },
        "id": "aa4a48ec-b360-4691-a233-187806f987b4",
        "outputId": "53bf3b86-d9ef-4cc5-ea46-f744269c7a73"
      },
      "outputs": [
        {
          "output_type": "stream",
          "name": "stdout",
          "text": [
            "training_size: 724 testing_size: 181\n"
          ]
        }
      ],
      "source": [
        "training_size = int(len(df) * 0.8)\n",
        "train = df[\"Adj Close\"][0:training_size]\n",
        "test = df[\"Adj Close\"][training_size:]\n",
        "print(\"training_size:\", training_size, \"testing_size:\", len(df) - training_size)"
      ]
    },
    {
      "cell_type": "code",
      "execution_count": 7,
      "id": "dd62c1dc-f087-4f91-a85c-dff52614eab8",
      "metadata": {
        "colab": {
          "base_uri": "https://localhost:8080/"
        },
        "id": "dd62c1dc-f087-4f91-a85c-dff52614eab8",
        "outputId": "435f685d-a1c0-452e-8eaa-7c34027c60a3"
      },
      "outputs": [
        {
          "output_type": "execute_result",
          "data": {
            "text/plain": [
              "DatetimeIndex(['2022-11-15', '2022-11-16', '2022-11-17', '2022-11-18',\n",
              "               '2022-11-21', '2022-11-22', '2022-11-23', '2022-11-25',\n",
              "               '2022-11-28', '2022-11-29',\n",
              "               ...\n",
              "               '2023-07-25', '2023-07-26', '2023-07-27', '2023-07-28',\n",
              "               '2023-07-31', '2023-08-01', '2023-08-02', '2023-08-03',\n",
              "               '2023-08-04', '2023-08-07'],\n",
              "              dtype='datetime64[ns]', name='Date', length=181, freq=None)"
            ]
          },
          "metadata": {},
          "execution_count": 7
        }
      ],
      "source": [
        "test_date = df[training_size:].index\n",
        "test_date"
      ]
    },
    {
      "cell_type": "code",
      "execution_count": 8,
      "id": "b656581a-357a-4fae-9c12-ff27b758af61",
      "metadata": {
        "colab": {
          "base_uri": "https://localhost:8080/",
          "height": 472
        },
        "id": "b656581a-357a-4fae-9c12-ff27b758af61",
        "outputId": "8d91aa00-1b7b-41f0-ae1a-50c18be91f9a"
      },
      "outputs": [
        {
          "output_type": "display_data",
          "data": {
            "text/plain": [
              "<Figure size 640x480 with 1 Axes>"
            ],
            "image/png": "[encoded data removed]"
          },
          "metadata": {}
        }
      ],
      "source": [
        "plt.plot(train, label=\"training\")\n",
        "plt.plot(test, label=\"testing\")\n",
        "plt.axvline(test_date[1], color='red', ls='--', lw=2)\n",
        "plt.title(f\"{symbol} Stock Price\")\n",
        "plt.xlabel(\"Dates\")\n",
        "plt.ylabel(\"Closing Price\")\n",
        "plt.grid()\n",
        "plt.legend()\n",
        "plt.show()"
      ]
    },
    {
      "cell_type": "markdown",
      "source": [
        "# Helper Functions"
      ],
      "metadata": {
        "id": "z0_iM9k4HS88"
      },
      "id": "z0_iM9k4HS88"
    },
    {
      "cell_type": "code",
      "source": [
        "def predict_orderbook(model, train, test):\n",
        "  pred = []\n",
        "  gain = []\n",
        "  buy = np.array([], dtype=np.float32)\n",
        "  sell = np.array([], dtype=np.float32)\n",
        "  net_holding = 0\n",
        "  orders_df = pd.DataFrame(0, index=order_df_date, columns=[\"trade\"], dtype=np.float32)\n",
        "  temp_train = train\n",
        "\n",
        "  for i in range(len(test)):\n",
        "      model = ARIMA(temp_train, order=(1,1,1))\n",
        "      arima_fitted_model = model.fit()\n",
        "      output = arima_fitted_model.forecast()\n",
        "      yhat = output[0]\n",
        "      pred.append(yhat)\n",
        "      target = test[i]\n",
        "\n",
        "      # Assuming each trade contains at least 1000 shares\n",
        "      price_change = (yhat - temp_train[-1]) * 1000\n",
        "      if price_change >= 500:\n",
        "          orders_df.iloc[i] = 1000 - net_holding\n",
        "      elif price_change <= -500:\n",
        "          orders_df.iloc[i] = -1000 - net_holding\n",
        "      else:\n",
        "          orders_df.iloc[i] = 0\n",
        "      # print(f\"yhat: {yhat}, temp_train[-1] {temp_train[-1]}, price change: {price_change}, {orders_df.iloc[i]}\")\n",
        "      net_holding += orders_df.iloc[i][0]\n",
        "\n",
        "      # record entry point\n",
        "      if orders_df.iloc[i][0] > 0 and net_holding == 1000:\n",
        "          buy = np.append(buy, orders_df.index[i])\n",
        "          # print(f\"yhat: {yhat}, temp_train[-1] {temp_train[-1]}, price change: {price_change}, {orders_df.iloc[i]}\")\n",
        "      if orders_df.iloc[i][0] < 0 and net_holding == -1000:\n",
        "          sell = np.append(sell, orders_df.index[i])\n",
        "\n",
        "      gain.append(price_change)\n",
        "      temp_train = np.append(temp_train, target)"
      ],
      "metadata": {
        "id": "ND6zmj4iHTUC"
      },
      "id": "ND6zmj4iHTUC",
      "execution_count": 51,
      "outputs": []
    },
    {
      "cell_type": "markdown",
      "id": "1b0153e1-3be0-4b7e-a1dd-e8826c7e29c9",
      "metadata": {
        "jp-MarkdownHeadingCollapsed": true,
        "id": "1b0153e1-3be0-4b7e-a1dd-e8826c7e29c9"
      },
      "source": [
        "# ARIMA (Autoregressive Integrated Moving Average)"
      ]
    },
    {
      "cell_type": "markdown",
      "id": "46eec836-7281-4f31-9654-1fd346561a2e",
      "metadata": {
        "id": "46eec836-7281-4f31-9654-1fd346561a2e"
      },
      "source": [
        "## Check Stationarity and Find Parameters p, d, q"
      ]
    },
    {
      "cell_type": "markdown",
      "id": "a5a534a9-e5f8-43ef-bc04-6ef1ed5c5053",
      "metadata": {
        "id": "a5a534a9-e5f8-43ef-bc04-6ef1ed5c5053"
      },
      "source": [
        "If stationary,\n",
        "- Constant Mean: data does not have a long-term upward or downward trend.\n",
        "- Constant Variance: magnitude of random fluctuations in the data remains the same over time.\n",
        "- Constant Autocovariance (or Autocorrelation): The autocorrelation (correlation between two observations at different lags) remains constant over time. This implies that the relationship between past and future values remains consistent throughout the series.\n"
      ]
    },
    {
      "cell_type": "code",
      "execution_count": 9,
      "id": "797f68e7-269b-4a97-89b0-45f7f9ad4ad9",
      "metadata": {
        "colab": {
          "base_uri": "https://localhost:8080/",
          "height": 1000
        },
        "id": "797f68e7-269b-4a97-89b0-45f7f9ad4ad9",
        "outputId": "2e2aff71-ad31-4489-c599-39de6ee9cb60"
      },
      "outputs": [
        {
          "output_type": "display_data",
          "data": {
            "text/plain": [
              "<Figure size 640x480 with 1 Axes>"
            ],
            "image/png": "[encoded data removed]"
          },
          "metadata": {}
        },
        {
          "output_type": "display_data",
          "data": {
            "text/plain": [
              "<Figure size 640x480 with 1 Axes>"
            ],
            "image/png": "[encoded data removed]"
          },
          "metadata": {}
        },
        {
          "output_type": "display_data",
          "data": {
            "text/plain": [
              "<Figure size 640x480 with 1 Axes>"
            ],
            "image/png": "[encoded data removed]"
          },
          "metadata": {}
        },
        {
          "output_type": "display_data",
          "data": {
            "text/plain": [
              "<Figure size 640x480 with 1 Axes>"
            ],
            "image/png": "[encoded data removed]"
          },
          "metadata": {}
        }
      ],
      "source": [
        "from statsmodels.graphics.tsaplots import plot_acf, plot_pacf\n",
        "# If stationary, the acf value quickly decay to 0\n",
        "plot_acf(train.dropna());\n",
        "plot_pacf(train.dropna());\n",
        "plot_acf(train.diff().dropna());\n",
        "plot_pacf(train.diff().dropna());"
      ]
    },
    {
      "cell_type": "code",
      "execution_count": 10,
      "id": "286ed40b-0283-47f3-833d-1890d757e6c4",
      "metadata": {
        "id": "286ed40b-0283-47f3-833d-1890d757e6c4"
      },
      "outputs": [],
      "source": [
        "def ad_test(data):\n",
        "    dftest = adfuller(data, autolag=\"AIC\")\n",
        "    # print(\"ADF: \", dftest[0])\n",
        "    print(\"P-Value: \", dftest[1])\n",
        "    # print(\"Number of Lags: \", dftest[2])\n",
        "    # print(\"Number of Observation Used for ADF Regression and Critical Values Calculation: \", dftest[3])\n",
        "    # print(\"Critical Values: \")\n",
        "    # for key, value in dftest[4].items():\n",
        "    #     print(\"\\t\", key, \": \", value)"
      ]
    },
    {
      "cell_type": "code",
      "execution_count": 11,
      "id": "59b8d860-6b56-4ced-a395-1230c01be20d",
      "metadata": {
        "colab": {
          "base_uri": "https://localhost:8080/"
        },
        "id": "59b8d860-6b56-4ced-a395-1230c01be20d",
        "outputId": "4c91bb38-d067-42e7-a962-4217e57a60f0"
      },
      "outputs": [
        {
          "output_type": "stream",
          "name": "stdout",
          "text": [
            "P-Value:  0.31461794144869903\n"
          ]
        }
      ],
      "source": [
        "ad_test(train)"
      ]
    },
    {
      "cell_type": "code",
      "execution_count": 12,
      "id": "f2772ab9-7d79-42a7-9dc8-272db0d54af3",
      "metadata": {
        "colab": {
          "base_uri": "https://localhost:8080/"
        },
        "id": "f2772ab9-7d79-42a7-9dc8-272db0d54af3",
        "outputId": "135b866c-7860-4a80-d2e2-9111fb569e26"
      },
      "outputs": [
        {
          "output_type": "stream",
          "name": "stdout",
          "text": [
            "P-Value:  1.0162111685157744e-12\n"
          ]
        }
      ],
      "source": [
        "ad_test(train.diff().dropna())"
      ]
    },
    {
      "cell_type": "code",
      "execution_count": 13,
      "id": "58934ebc-7f28-4cea-ad64-292d69f9c5f5",
      "metadata": {
        "colab": {
          "base_uri": "https://localhost:8080/"
        },
        "id": "58934ebc-7f28-4cea-ad64-292d69f9c5f5",
        "outputId": "2144a7bb-1f76-4815-b7be-1e5824b37f2c"
      },
      "outputs": [
        {
          "output_type": "stream",
          "name": "stdout",
          "text": [
            "Performing stepwise search to minimize aic\n",
            " ARIMA(2,1,2)(0,0,0)[0] intercept   : AIC=5245.854, Time=0.70 sec\n",
            " ARIMA(0,1,0)(0,0,0)[0] intercept   : AIC=5239.322, Time=0.07 sec\n",
            " ARIMA(1,1,0)(0,0,0)[0] intercept   : AIC=5240.053, Time=0.08 sec\n",
            " ARIMA(0,1,1)(0,0,0)[0] intercept   : AIC=5240.087, Time=0.25 sec\n",
            " ARIMA(0,1,0)(0,0,0)[0]             : AIC=5237.768, Time=0.04 sec\n",
            " ARIMA(1,1,1)(0,0,0)[0] intercept   : AIC=5241.855, Time=0.70 sec\n",
            "\n",
            "Best model:  ARIMA(0,1,0)(0,0,0)[0]          \n",
            "Total fit time: 1.947 seconds\n",
            "                               SARIMAX Results                                \n",
            "==============================================================================\n",
            "Dep. Variable:                      y   No. Observations:                  724\n",
            "Model:               SARIMAX(0, 1, 0)   Log Likelihood               -2617.884\n",
            "Date:                Sun, 20 Aug 2023   AIC                           5237.768\n",
            "Time:                        22:32:54   BIC                           5242.351\n",
            "Sample:                             0   HQIC                          5239.537\n",
            "                                - 724                                         \n",
            "Covariance Type:                  opg                                         \n",
            "==============================================================================\n",
            "                 coef    std err          z      P>|z|      [0.025      0.975]\n",
            "------------------------------------------------------------------------------\n",
            "sigma2        81.7673      2.530     32.318      0.000      76.808      86.726\n",
            "===================================================================================\n",
            "Ljung-Box (L1) (Q):                   1.27   Jarque-Bera (JB):               437.58\n",
            "Prob(Q):                              0.26   Prob(JB):                         0.00\n",
            "Heteroskedasticity (H):               5.01   Skew:                            -0.15\n",
            "Prob(H) (two-sided):                  0.00   Kurtosis:                         6.80\n",
            "===================================================================================\n",
            "\n",
            "Warnings:\n",
            "[1] Covariance matrix calculated using the outer product of gradients (complex-step).\n"
          ]
        }
      ],
      "source": [
        "arima_auto_model = auto_arima(train, trace=True, suppress_warning=True)\n",
        "print(arima_auto_model.summary())"
      ]
    },
    {
      "cell_type": "code",
      "execution_count": 14,
      "id": "80c8a03e-8f76-49cb-a325-97b0a6886398",
      "metadata": {
        "id": "80c8a03e-8f76-49cb-a325-97b0a6886398"
      },
      "outputs": [],
      "source": [
        "# predict price on the next day in order to make decision on current day.\n",
        "# no trade will be makde on last testing day since we don't know about the price on the day after the last day\n",
        "order_df_date = df[training_size - 1:-1].index\n",
        "arima_train = np.array(train)\n",
        "arima_test = np.array(test)"
      ]
    },
    {
      "cell_type": "code",
      "execution_count": 15,
      "id": "5b96b431-c405-44e2-97b3-6a2fd5552de9",
      "metadata": {
        "scrolled": true,
        "id": "5b96b431-c405-44e2-97b3-6a2fd5552de9"
      },
      "outputs": [],
      "source": [
        "pred = []\n",
        "gain = []\n",
        "buy = np.array([], dtype=np.float32)\n",
        "sell = np.array([], dtype=np.float32)\n",
        "net_holding = 0\n",
        "orders_df = pd.DataFrame(0, index=order_df_date, columns=[\"trade\"], dtype=np.float32)\n",
        "temp_train = arima_train\n",
        "\n",
        "for i in range(len(arima_test)):\n",
        "    arima_model = ARIMA(temp_train, order=(1,1,1))\n",
        "    arima_fitted_model = arima_model.fit()\n",
        "    output = arima_fitted_model.forecast()\n",
        "    yhat = output[0]\n",
        "    pred.append(yhat)\n",
        "    target = arima_test[i]\n",
        "\n",
        "    # Assuming each trade contains at least 1000 shares\n",
        "    price_change = (yhat - temp_train[-1]) * 1000\n",
        "    if price_change >= 500:\n",
        "        orders_df.iloc[i] = 1000 - net_holding\n",
        "    elif price_change <= -500:\n",
        "        orders_df.iloc[i] = -1000 - net_holding\n",
        "    else:\n",
        "        orders_df.iloc[i] = 0\n",
        "    # print(f\"yhat: {yhat}, temp_train[-1] {temp_train[-1]}, price change: {price_change}, {orders_df.iloc[i]}\")\n",
        "    net_holding += orders_df.iloc[i][0]\n",
        "\n",
        "    # record entry point\n",
        "    if orders_df.iloc[i][0] > 0 and net_holding == 1000:\n",
        "        buy = np.append(buy, orders_df.index[i])\n",
        "        # print(f\"yhat: {yhat}, temp_train[-1] {temp_train[-1]}, price change: {price_change}, {orders_df.iloc[i]}\")\n",
        "    if orders_df.iloc[i][0] < 0 and net_holding == -1000:\n",
        "        sell = np.append(sell, orders_df.index[i])\n",
        "\n",
        "    gain.append(price_change)\n",
        "    temp_train = np.append(temp_train, target)"
      ]
    },
    {
      "cell_type": "code",
      "execution_count": 16,
      "id": "82f7f094-2e3d-4b2b-8c36-d6eac101639c",
      "metadata": {
        "colab": {
          "base_uri": "https://localhost:8080/"
        },
        "id": "82f7f094-2e3d-4b2b-8c36-d6eac101639c",
        "outputId": "5ae3013c-07ab-4ddf-85c5-b9234acc2261"
      },
      "outputs": [
        {
          "output_type": "stream",
          "name": "stdout",
          "text": [
            "                               SARIMAX Results                                \n",
            "==============================================================================\n",
            "Dep. Variable:                      y   No. Observations:                  904\n",
            "Model:                 ARIMA(1, 1, 1)   Log Likelihood               -3234.206\n",
            "Date:                Sun, 20 Aug 2023   AIC                           6474.413\n",
            "Time:                        22:33:31   BIC                           6488.830\n",
            "Sample:                             0   HQIC                          6479.920\n",
            "                                - 904                                         \n",
            "Covariance Type:                  opg                                         \n",
            "==============================================================================\n",
            "                 coef    std err          z      P>|z|      [0.025      0.975]\n",
            "------------------------------------------------------------------------------\n",
            "ar.L1         -0.4895      0.570     -0.859      0.391      -1.607       0.628\n",
            "ma.L1          0.4570      0.584      0.783      0.434      -0.687       1.601\n",
            "sigma2        75.5939      2.111     35.813      0.000      71.457      79.731\n",
            "===================================================================================\n",
            "Ljung-Box (L1) (Q):                   0.00   Jarque-Bera (JB):               535.18\n",
            "Prob(Q):                              0.97   Prob(JB):                         0.00\n",
            "Heteroskedasticity (H):               1.45   Skew:                            -0.17\n",
            "Prob(H) (two-sided):                  0.00   Kurtosis:                         6.76\n",
            "===================================================================================\n",
            "\n",
            "Warnings:\n",
            "[1] Covariance matrix calculated using the outer product of gradients (complex-step).\n"
          ]
        }
      ],
      "source": [
        "print(arima_fitted_model.summary())"
      ]
    },
    {
      "cell_type": "code",
      "execution_count": 17,
      "id": "e4d28a7c-d677-45f1-9fe6-42e90c3206f5",
      "metadata": {
        "colab": {
          "base_uri": "https://localhost:8080/",
          "height": 562
        },
        "id": "e4d28a7c-d677-45f1-9fe6-42e90c3206f5",
        "outputId": "5262c6a3-e323-479a-f803-80ea277fe36f"
      },
      "outputs": [
        {
          "output_type": "stream",
          "name": "stdout",
          "text": [
            "Test Mean: 194.379\n",
            "Test RMSE: 7.160\n",
            "Test MAE: 5.478\n"
          ]
        },
        {
          "output_type": "display_data",
          "data": {
            "text/plain": [
              "<Figure size 640x480 with 1 Axes>"
            ],
            "image/png": "[encoded data removed]"
          },
          "metadata": {}
        }
      ],
      "source": [
        "rmse = math.sqrt(mean_squared_error(arima_test, pred))\n",
        "print('Test Mean: %.3f' % arima_test.mean())\n",
        "print('Test RMSE: %.3f' % rmse)\n",
        "mae = mean_absolute_error(arima_test, pred)\n",
        "print('Test MAE: %.3f' % mae)\n",
        "\n",
        "# plot forecasts against actual outcomes\n",
        "plt.plot(test_date, arima_test, color=\"red\", label=\"target\", linestyle='-', linewidth=1, alpha=0.9)\n",
        "plt.plot(test_date, pred, color=\"blue\", label=\"predictions\", linestyle='--', linewidth=1.5, alpha=0.7)\n",
        "for date in buy:\n",
        "    plt.axvline(x=date, color='blue')\n",
        "for date in sell:\n",
        "    plt.axvline(x=date, color='black')\n",
        "plt.legend()\n",
        "plt.xticks(rotation = 45)\n",
        "plt.title(f\"{symbol} Stock Prediction\")\n",
        "plt.xlabel(\"Dates\")\n",
        "plt.ylabel(\"Closing Price\")\n",
        "plt.grid()\n",
        "plt.show()"
      ]
    },
    {
      "cell_type": "code",
      "execution_count": 18,
      "id": "5d53d0ee-2831-49bd-877c-02d48d87a9fa",
      "metadata": {
        "id": "5d53d0ee-2831-49bd-877c-02d48d87a9fa"
      },
      "outputs": [],
      "source": [
        "def compute_portvals(dates, prices, orders_df, start_val=100000, commission=0, impact=0):\n",
        "    prices[\"Cash\"] = 1\n",
        "\n",
        "    # Get the trades dataframe\n",
        "    trades = prices.copy()\n",
        "    for col in trades.columns:\n",
        "        trades[col] = 0\n",
        "    for index, row in orders_df.iterrows():\n",
        "        if row[0] == 0:\n",
        "            continue\n",
        "        shares_cost = row[0] * prices.loc[index]\n",
        "        impact_cost = shares_cost * impact\n",
        "        if row[0] >= 0:\n",
        "            cost = -(shares_cost + impact_cost + commission)\n",
        "        else:\n",
        "            cost = -(shares_cost - impact_cost + commission)\n",
        "        trades.loc[index, \"Adj Close\"] += row[0]\n",
        "        trades.loc[index, \"Cash\"] += cost[0]\n",
        "\n",
        "    # Get the holdings dataframe\n",
        "    initial = {symbol: 0, \"Cash\": start_val}\n",
        "    first_row = pd.DataFrame(initial, index=[1])\n",
        "    holdings = trades.copy()\n",
        "    holdings = pd.concat([first_row, holdings])\n",
        "    holdings = holdings.cumsum()\n",
        "    holdings = holdings.iloc[1:, :]\n",
        "\n",
        "    # Get the values dataframe\n",
        "    values = holdings.copy()\n",
        "    values *= prices\n",
        "\n",
        "    # Get the porfolio value dataframe\n",
        "    portvals = values.sum(axis=1).to_frame().astype('float32')\n",
        "    return portvals"
      ]
    },
    {
      "cell_type": "code",
      "execution_count": 22,
      "id": "64c36eff-e4dc-4a13-bcd7-51e7cae81b8e",
      "metadata": {
        "scrolled": true,
        "id": "64c36eff-e4dc-4a13-bcd7-51e7cae81b8e"
      },
      "outputs": [],
      "source": [
        "portvals = compute_portvals(test_date, prices, orders_df)"
      ]
    },
    {
      "cell_type": "code",
      "execution_count": 23,
      "id": "b3c1d4be-1830-425a-bd82-4c85a3fb1874",
      "metadata": {
        "colab": {
          "base_uri": "https://localhost:8080/"
        },
        "id": "b3c1d4be-1830-425a-bd82-4c85a3fb1874",
        "outputId": "304344be-d621-4e13-ce87-21cbe7483ffc"
      },
      "outputs": [
        {
          "output_type": "execute_result",
          "data": {
            "text/plain": [
              "2022-11-14    100000.000000\n",
              "2022-11-15    100000.000000\n",
              "2022-11-16    100000.000000\n",
              "2022-11-17    100000.000000\n",
              "2022-11-18    100000.000000\n",
              "                  ...      \n",
              "2023-07-31    126789.992188\n",
              "2023-08-01    120430.007812\n",
              "2023-08-02    113470.000000\n",
              "2023-08-03    118680.007812\n",
              "2023-08-04    113220.000000\n",
              "Name: 0, Length: 181, dtype: float32"
            ]
          },
          "metadata": {},
          "execution_count": 23
        }
      ],
      "source": [
        "portvals.iloc[:,0]"
      ]
    },
    {
      "cell_type": "code",
      "execution_count": 24,
      "id": "c6e95167-703f-429d-b77d-9000d151b37d",
      "metadata": {
        "colab": {
          "base_uri": "https://localhost:8080/"
        },
        "id": "c6e95167-703f-429d-b77d-9000d151b37d",
        "outputId": "705744a9-7c31-4a6a-e0f7-477c889a3e3a"
      },
      "outputs": [
        {
          "output_type": "stream",
          "name": "stdout",
          "text": [
            "number of holding days: 171 total number of trading days: 181\n"
          ]
        }
      ],
      "source": [
        "print(\"number of holding days:\", len(orders_df[orders_df[\"trade\"].values == 0]), \"total number of trading days:\", len(orders_df))"
      ]
    },
    {
      "cell_type": "markdown",
      "id": "ea4d72e9-1296-450b-aa5e-196a4603d981",
      "metadata": {
        "jp-MarkdownHeadingCollapsed": true,
        "id": "ea4d72e9-1296-450b-aa5e-196a4603d981"
      },
      "source": [
        "# SARIMA (Seasonal Autoregressive Integrated Moving Average)"
      ]
    },
    {
      "cell_type": "code",
      "execution_count": 25,
      "id": "2e97f302-66ee-4ab7-a50f-4d49507527e8",
      "metadata": {
        "colab": {
          "base_uri": "https://localhost:8080/"
        },
        "id": "2e97f302-66ee-4ab7-a50f-4d49507527e8",
        "outputId": "dd11437b-9baf-4175-d63e-252177aaa304"
      },
      "outputs": [
        {
          "output_type": "stream",
          "name": "stdout",
          "text": [
            "                               SARIMAX Results                                \n",
            "==============================================================================\n",
            "Dep. Variable:                      y   No. Observations:                  724\n",
            "Model:               SARIMAX(0, 1, 0)   Log Likelihood               -2617.884\n",
            "Date:                Sun, 20 Aug 2023   AIC                           5237.768\n",
            "Time:                        22:33:35   BIC                           5242.351\n",
            "Sample:                             0   HQIC                          5239.537\n",
            "                                - 724                                         \n",
            "Covariance Type:                  opg                                         \n",
            "==============================================================================\n",
            "                 coef    std err          z      P>|z|      [0.025      0.975]\n",
            "------------------------------------------------------------------------------\n",
            "sigma2        81.7673      2.530     32.318      0.000      76.808      86.726\n",
            "===================================================================================\n",
            "Ljung-Box (L1) (Q):                   1.27   Jarque-Bera (JB):               437.58\n",
            "Prob(Q):                              0.26   Prob(JB):                         0.00\n",
            "Heteroskedasticity (H):               5.01   Skew:                            -0.15\n",
            "Prob(H) (two-sided):                  0.00   Kurtosis:                         6.80\n",
            "===================================================================================\n",
            "\n",
            "Warnings:\n",
            "[1] Covariance matrix calculated using the outer product of gradients (complex-step).\n"
          ]
        }
      ],
      "source": [
        "# auto_model = auto_arima(train, trace=True, suppress_warning=True)\n",
        "sarima_auto_model = auto_arima(train, m=4)\n",
        "print(sarima_auto_model.summary())"
      ]
    },
    {
      "cell_type": "code",
      "execution_count": 26,
      "id": "6d79797c-07ef-498d-8725-215a30a11ab4",
      "metadata": {
        "id": "6d79797c-07ef-498d-8725-215a30a11ab4"
      },
      "outputs": [],
      "source": [
        "sarima_train = np.array(train)\n",
        "sarima_test = np.array(test)"
      ]
    },
    {
      "cell_type": "code",
      "execution_count": 27,
      "id": "24d13f76-caf4-4152-8ae9-9b3a9e397de8",
      "metadata": {
        "scrolled": true,
        "id": "24d13f76-caf4-4152-8ae9-9b3a9e397de8"
      },
      "outputs": [],
      "source": [
        "pred = []\n",
        "gain = []\n",
        "net_holding = 0\n",
        "orders_df = pd.DataFrame(0, index=order_df_date, columns=[\"trade\"], dtype=np.float32)\n",
        "\n",
        "for i in range(len(sarima_test)):\n",
        "    sarima_model = SARIMAX(sarima_train, order=(0, 1, 0), seasonal_order=(2, 0, 0, 12))\n",
        "    sarima_fitted_model = sarima_model.fit()\n",
        "    output = sarima_fitted_model.forecast()\n",
        "    yhat = output[0]\n",
        "    pred.append(yhat)\n",
        "    target = sarima_test[i]\n",
        "\n",
        "    # Assuming each trade contains at least 1000 shares\n",
        "    price_change = (yhat - sarima_train[-1]) * 1000\n",
        "    if price_change >= 50:\n",
        "        orders_df.iloc[i] = 1000 - net_holding\n",
        "    elif price_change <= -50:\n",
        "        orders_df.iloc[i] = -1000 - net_holding\n",
        "    else:\n",
        "        orders_df.iloc[i] = 0\n",
        "    # print(f\"yhat: {yhat}, sarima_train[-1] {sarima_train[-1]}, price change: {price_change}, {orders_df.iloc[i]}\")\n",
        "    net_holding += orders_df.iloc[i][0]\n",
        "\n",
        "    gain.append(price_change)\n",
        "    sarima_train = np.append(sarima_train, target)"
      ]
    },
    {
      "cell_type": "code",
      "execution_count": 28,
      "id": "d648a3d1-0452-49a2-baaa-3226bef0a672",
      "metadata": {
        "colab": {
          "base_uri": "https://localhost:8080/"
        },
        "id": "d648a3d1-0452-49a2-baaa-3226bef0a672",
        "outputId": "b275e51b-91ce-49a0-d182-9bf883fc0c29"
      },
      "outputs": [
        {
          "output_type": "stream",
          "name": "stdout",
          "text": [
            "                                     SARIMAX Results                                      \n",
            "==========================================================================================\n",
            "Dep. Variable:                                  y   No. Observations:                  904\n",
            "Model:             SARIMAX(0, 1, 0)x(2, 0, 0, 12)   Log Likelihood               -3228.169\n",
            "Date:                            Sun, 20 Aug 2023   AIC                           6462.338\n",
            "Time:                                    22:34:27   BIC                           6476.755\n",
            "Sample:                                         0   HQIC                          6467.844\n",
            "                                            - 904                                         \n",
            "Covariance Type:                              opg                                         \n",
            "==============================================================================\n",
            "                 coef    std err          z      P>|z|      [0.025      0.975]\n",
            "------------------------------------------------------------------------------\n",
            "ar.S.L12       0.0199      0.032      0.622      0.534      -0.043       0.083\n",
            "ar.S.L24       0.1190      0.026      4.640      0.000       0.069       0.169\n",
            "sigma2        74.5605      2.063     36.149      0.000      70.518      78.603\n",
            "===================================================================================\n",
            "Ljung-Box (L1) (Q):                   0.94   Jarque-Bera (JB):               585.74\n",
            "Prob(Q):                              0.33   Prob(JB):                         0.00\n",
            "Heteroskedasticity (H):               1.47   Skew:                            -0.27\n",
            "Prob(H) (two-sided):                  0.00   Kurtosis:                         6.91\n",
            "===================================================================================\n",
            "\n",
            "Warnings:\n",
            "[1] Covariance matrix calculated using the outer product of gradients (complex-step).\n"
          ]
        }
      ],
      "source": [
        "print(sarima_fitted_model.summary())"
      ]
    },
    {
      "cell_type": "code",
      "execution_count": 29,
      "id": "7f10b97f-7fb7-46c6-b53f-9416c8e87f92",
      "metadata": {
        "colab": {
          "base_uri": "https://localhost:8080/",
          "height": 562
        },
        "id": "7f10b97f-7fb7-46c6-b53f-9416c8e87f92",
        "outputId": "527c2a03-25aa-43cb-bd50-f93c8330e158"
      },
      "outputs": [
        {
          "output_type": "stream",
          "name": "stdout",
          "text": [
            "Test Mean: 194.379\n",
            "Test RMSE: 7.165\n",
            "Test MAE: 5.519\n"
          ]
        },
        {
          "output_type": "display_data",
          "data": {
            "text/plain": [
              "<Figure size 640x480 with 1 Axes>"
            ],
            "image/png": "[encoded data removed]"
          },
          "metadata": {}
        }
      ],
      "source": [
        "rmse = math.sqrt(mean_squared_error(sarima_test, pred))\n",
        "print('Test Mean: %.3f' % sarima_test.mean())\n",
        "print('Test RMSE: %.3f' % rmse)\n",
        "mae = mean_absolute_error(sarima_test, pred)\n",
        "print('Test MAE: %.3f' % mae)\n",
        "\n",
        "# plot forecasts against actual outcomes\n",
        "plt.plot(test_date, sarima_test, color=\"red\", label=\"target\", linestyle='-', linewidth=1, alpha=0.9)\n",
        "plt.plot(test_date, pred, color=\"blue\", label=\"predictions\", linestyle='--', linewidth=1.5, alpha=0.7)\n",
        "plt.legend()\n",
        "plt.xticks(rotation = 45)\n",
        "plt.title(f\"{symbol} Stock Prediction\")\n",
        "plt.xlabel(\"Dates\")\n",
        "plt.ylabel(\"Closing Price\")\n",
        "plt.show()"
      ]
    },
    {
      "cell_type": "markdown",
      "id": "da63ce96-4cca-438e-bc20-bb630a736f45",
      "metadata": {
        "jp-MarkdownHeadingCollapsed": true,
        "id": "da63ce96-4cca-438e-bc20-bb630a736f45"
      },
      "source": [
        "# ES (Exponential Smoothing)"
      ]
    },
    {
      "cell_type": "code",
      "execution_count": 30,
      "id": "f834fda8-aa96-449f-877b-ceab8c60637b",
      "metadata": {
        "id": "f834fda8-aa96-449f-877b-ceab8c60637b"
      },
      "outputs": [],
      "source": [
        "es_train = np.array(train)\n",
        "es_test = np.array(test)"
      ]
    },
    {
      "cell_type": "code",
      "execution_count": 31,
      "id": "b88b2abd-f31a-4d83-aae8-795fad0537ce",
      "metadata": {
        "id": "b88b2abd-f31a-4d83-aae8-795fad0537ce"
      },
      "outputs": [],
      "source": [
        "pred = []\n",
        "gain = []\n",
        "net_holding = 0\n",
        "orders_df = pd.DataFrame(0, index=order_df_date, columns=[\"trade\"], dtype=np.float32)\n",
        "\n",
        "for i in range(len(es_test)):\n",
        "    # ExponentialSmoothing(es_train, trend='add', seasonal='add', seasonal_periods=7)\n",
        "    es_model = ExponentialSmoothing(es_train, seasonal='add', seasonal_periods=12)\n",
        "    es_fitted_model = es_model.fit()\n",
        "    output = es_fitted_model.forecast()\n",
        "    yhat = output[0]\n",
        "    pred.append(yhat)\n",
        "    target = es_test[i]\n",
        "\n",
        "    # Assuming each trade contains at least 1000 shares\n",
        "    price_change = (yhat - es_train[-1]) * 1000\n",
        "    if price_change >= 50:\n",
        "        orders_df.iloc[i] = 1000 - net_holding\n",
        "    elif price_change <= -50:\n",
        "        orders_df.iloc[i] = -1000 - net_holding\n",
        "    else:\n",
        "        orders_df.iloc[i] = 0\n",
        "    # print(f\"yhat: {yhat}, sarima_train[-1] {sarima_train[-1]}, price change: {price_change}, {orders_df.iloc[i]}\")\n",
        "    net_holding += orders_df.iloc[i][0]\n",
        "\n",
        "    gain.append(price_change)\n",
        "    es_train = np.append(es_train, target)"
      ]
    },
    {
      "cell_type": "code",
      "execution_count": 32,
      "id": "56859f42-3c16-4a32-a7f7-04a5bfbe6aa3",
      "metadata": {
        "colab": {
          "base_uri": "https://localhost:8080/",
          "height": 562
        },
        "id": "56859f42-3c16-4a32-a7f7-04a5bfbe6aa3",
        "outputId": "2533e571-c8be-4c9a-bee9-668dbe75f07e"
      },
      "outputs": [
        {
          "output_type": "stream",
          "name": "stdout",
          "text": [
            "Test Mean: 194.379\n",
            "Test RMSE: 7.198\n",
            "Test MAE: 5.589\n"
          ]
        },
        {
          "output_type": "display_data",
          "data": {
            "text/plain": [
              "<Figure size 640x480 with 1 Axes>"
            ],
            "image/png": "[encoded data removed]"
          },
          "metadata": {}
        }
      ],
      "source": [
        "rmse = math.sqrt(mean_squared_error(es_test, pred))\n",
        "print('Test Mean: %.3f' % es_test.mean())\n",
        "print('Test RMSE: %.3f' % rmse)\n",
        "mae = mean_absolute_error(es_test, pred)\n",
        "print('Test MAE: %.3f' % mae)\n",
        "\n",
        "# plot forecasts against actual outcomes\n",
        "plt.plot(test_date, es_test, color=\"red\", label=\"target\", linestyle='-', linewidth=1, alpha=0.9)\n",
        "plt.plot(test_date, pred, color=\"blue\", label=\"predictions\", linestyle='--', linewidth=1.5, alpha=0.7)\n",
        "plt.legend()\n",
        "plt.xticks(rotation = 45)\n",
        "plt.title(f\"{symbol} Stock Prediction\")\n",
        "plt.xlabel(\"Dates\")\n",
        "plt.ylabel(\"Closing Price\")\n",
        "plt.show()"
      ]
    },
    {
      "cell_type": "markdown",
      "id": "c1227a51-6dad-4ee0-823b-cf6e47b01a9d",
      "metadata": {
        "id": "c1227a51-6dad-4ee0-823b-cf6e47b01a9d"
      },
      "source": [
        "# Prophet\n",
        "\n"
      ]
    },
    {
      "cell_type": "code",
      "execution_count": 33,
      "id": "cf655d0b-8c26-4885-a9f5-96fdd3a696be",
      "metadata": {
        "colab": {
          "base_uri": "https://localhost:8080/",
          "height": 424
        },
        "id": "cf655d0b-8c26-4885-a9f5-96fdd3a696be",
        "outputId": "32cf6ee8-9da5-4213-e949-5e9be34fc9e7"
      },
      "outputs": [
        {
          "output_type": "execute_result",
          "data": {
            "text/plain": [
              "            ds           y\n",
              "0   2020-01-02   28.684000\n",
              "1   2020-01-03   29.534000\n",
              "2   2020-01-06   30.102667\n",
              "3   2020-01-07   31.270666\n",
              "4   2020-01-08   32.809334\n",
              "..         ...         ...\n",
              "719 2022-11-08  191.300003\n",
              "720 2022-11-09  177.589996\n",
              "721 2022-11-10  190.720001\n",
              "722 2022-11-11  195.970001\n",
              "723 2022-11-14  190.949997\n",
              "\n",
              "[724 rows x 2 columns]"
            ],
            "text/html": [
              "\n",
              "  <div id=\"df-530a5bd5-5225-4722-afff-f07c39c5c0d8\" class=\"colab-df-container\">\n",
              "    <div>\n",
              "<style scoped>\n",
              "    .dataframe tbody tr th:only-of-type {\n",
              "        vertical-align: middle;\n",
              "    }\n",
              "\n",
              "    .dataframe tbody tr th {\n",
              "        vertical-align: top;\n",
              "    }\n",
              "\n",
              "    .dataframe thead th {\n",
              "        text-align: right;\n",
              "    }\n",
              "</style>\n",
              "<table border=\"1\" class=\"dataframe\">\n",
              "  <thead>\n",
              "    <tr style=\"text-align: right;\">\n",
              "      <th></th>\n",
              "      <th>ds</th>\n",
              "      <th>y</th>\n",
              "    </tr>\n",
              "  </thead>\n",
              "  <tbody>\n",
              "    <tr>\n",
              "      <th>0</th>\n",
              "      <td>2020-01-02</td>\n",
              "      <td>28.684000</td>\n",
              "    </tr>\n",
              "    <tr>\n",
              "      <th>1</th>\n",
              "      <td>2020-01-03</td>\n",
              "      <td>29.534000</td>\n",
              "    </tr>\n",
              "    <tr>\n",
              "      <th>2</th>\n",
              "      <td>2020-01-06</td>\n",
              "      <td>30.102667</td>\n",
              "    </tr>\n",
              "    <tr>\n",
              "      <th>3</th>\n",
              "      <td>2020-01-07</td>\n",
              "      <td>31.270666</td>\n",
              "    </tr>\n",
              "    <tr>\n",
              "      <th>4</th>\n",
              "      <td>2020-01-08</td>\n",
              "      <td>32.809334</td>\n",
              "    </tr>\n",
              "    <tr>\n",
              "      <th>...</th>\n",
              "      <td>...</td>\n",
              "      <td>...</td>\n",
              "    </tr>\n",
              "    <tr>\n",
              "      <th>719</th>\n",
              "      <td>2022-11-08</td>\n",
              "      <td>191.300003</td>\n",
              "    </tr>\n",
              "    <tr>\n",
              "      <th>720</th>\n",
              "      <td>2022-11-09</td>\n",
              "      <td>177.589996</td>\n",
              "    </tr>\n",
              "    <tr>\n",
              "      <th>721</th>\n",
              "      <td>2022-11-10</td>\n",
              "      <td>190.720001</td>\n",
              "    </tr>\n",
              "    <tr>\n",
              "      <th>722</th>\n",
              "      <td>2022-11-11</td>\n",
              "      <td>195.970001</td>\n",
              "    </tr>\n",
              "    <tr>\n",
              "      <th>723</th>\n",
              "      <td>2022-11-14</td>\n",
              "      <td>190.949997</td>\n",
              "    </tr>\n",
              "  </tbody>\n",
              "</table>\n",
              "<p>724 rows × 2 columns</p>\n",
              "</div>\n",
              "    <div class=\"colab-df-buttons\">\n",
              "\n",
              "  <div class=\"colab-df-container\">\n",
              "    <button class=\"colab-df-convert\" onclick=\"convertToInteractive('df-530a5bd5-5225-4722-afff-f07c39c5c0d8')\"\n",
              "            title=\"Convert this dataframe to an interactive table.\"\n",
              "            style=\"display:none;\">\n",
              "\n",
              "  <svg xmlns=\"http://www.w3.org/2000/svg\" height=\"24px\" viewBox=\"0 -960 960 960\">\n",
              "    <path d=\"M120-120v-720h720v720H120Zm60-500h600v-160H180v160Zm220 220h160v-160H400v160Zm0 220h160v-160H400v160ZM180-400h160v-160H180v160Zm440 0h160v-160H620v160ZM180-180h160v-160H180v160Zm440 0h160v-160H620v160Z\"/>\n",
              "  </svg>\n",
              "    </button>\n",
              "\n",
              "  <style>\n",
              "    .colab-df-container {\n",
              "      display:flex;\n",
              "      gap: 12px;\n",
              "    }\n",
              "\n",
              "    .colab-df-convert {\n",
              "      background-color: #E8F0FE;\n",
              "      border: none;\n",
              "      border-radius: 50%;\n",
              "      cursor: pointer;\n",
              "      display: none;\n",
              "      fill: #1967D2;\n",
              "      height: 32px;\n",
              "      padding: 0 0 0 0;\n",
              "      width: 32px;\n",
              "    }\n",
              "\n",
              "    .colab-df-convert:hover {\n",
              "      background-color: #E2EBFA;\n",
              "      box-shadow: 0px 1px 2px rgba(60, 64, 67, 0.3), 0px 1px 3px 1px rgba(60, 64, 67, 0.15);\n",
              "      fill: #174EA6;\n",
              "    }\n",
              "\n",
              "    .colab-df-buttons div {\n",
              "      margin-bottom: 4px;\n",
              "    }\n",
              "\n",
              "    [theme=dark] .colab-df-convert {\n",
              "      background-color: #3B4455;\n",
              "      fill: #D2E3FC;\n",
              "    }\n",
              "\n",
              "    [theme=dark] .colab-df-convert:hover {\n",
              "      background-color: #434B5C;\n",
              "      box-shadow: 0px 1px 3px 1px rgba(0, 0, 0, 0.15);\n",
              "      filter: drop-shadow(0px 1px 2px rgba(0, 0, 0, 0.3));\n",
              "      fill: #FFFFFF;\n",
              "    }\n",
              "  </style>\n",
              "\n",
              "    <script>\n",
              "      const buttonEl =\n",
              "        document.querySelector('#df-530a5bd5-5225-4722-afff-f07c39c5c0d8 button.colab-df-convert');\n",
              "      buttonEl.style.display =\n",
              "        google.colab.kernel.accessAllowed ? 'block' : 'none';\n",
              "\n",
              "      async function convertToInteractive(key) {\n",
              "        const element = document.querySelector('#df-530a5bd5-5225-4722-afff-f07c39c5c0d8');\n",
              "        const dataTable =\n",
              "          await google.colab.kernel.invokeFunction('convertToInteractive',\n",
              "                                                    [key], {});\n",
              "        if (!dataTable) return;\n",
              "\n",
              "        const docLinkHtml = 'Like what you see? Visit the ' +\n",
              "          '<a target=\"_blank\" href=https://colab.research.google.com/notebooks/data_table.ipynb>data table notebook</a>'\n",
              "          + ' to learn more about interactive tables.';\n",
              "        element.innerHTML = '';\n",
              "        dataTable['output_type'] = 'display_data';\n",
              "        await google.colab.output.renderOutput(dataTable, element);\n",
              "        const docLink = document.createElement('div');\n",
              "        docLink.innerHTML = docLinkHtml;\n",
              "        element.appendChild(docLink);\n",
              "      }\n",
              "    </script>\n",
              "  </div>\n",
              "\n",
              "\n",
              "<div id=\"df-fb7db77f-fbf8-4239-b619-8e437c757e57\">\n",
              "  <button class=\"colab-df-quickchart\" onclick=\"quickchart('df-fb7db77f-fbf8-4239-b619-8e437c757e57')\"\n",
              "            title=\"Suggest charts.\"\n",
              "            style=\"display:none;\">\n",
              "\n",
              "<svg xmlns=\"http://www.w3.org/2000/svg\" height=\"24px\"viewBox=\"0 0 24 24\"\n",
              "     width=\"24px\">\n",
              "    <g>\n",
              "        <path d=\"M19 3H5c-1.1 0-2 .9-2 2v14c0 1.1.9 2 2 2h14c1.1 0 2-.9 2-2V5c0-1.1-.9-2-2-2zM9 17H7v-7h2v7zm4 0h-2V7h2v10zm4 0h-2v-4h2v4z\"/>\n",
              "    </g>\n",
              "</svg>\n",
              "  </button>\n",
              "\n",
              "<style>\n",
              "  .colab-df-quickchart {\n",
              "    background-color: #E8F0FE;\n",
              "    border: none;\n",
              "    border-radius: 50%;\n",
              "    cursor: pointer;\n",
              "    display: none;\n",
              "    fill: #1967D2;\n",
              "    height: 32px;\n",
              "    padding: 0 0 0 0;\n",
              "    width: 32px;\n",
              "  }\n",
              "\n",
              "  .colab-df-quickchart:hover {\n",
              "    background-color: #E2EBFA;\n",
              "    box-shadow: 0px 1px 2px rgba(60, 64, 67, 0.3), 0px 1px 3px 1px rgba(60, 64, 67, 0.15);\n",
              "    fill: #174EA6;\n",
              "  }\n",
              "\n",
              "  [theme=dark] .colab-df-quickchart {\n",
              "    background-color: #3B4455;\n",
              "    fill: #D2E3FC;\n",
              "  }\n",
              "\n",
              "  [theme=dark] .colab-df-quickchart:hover {\n",
              "    background-color: #434B5C;\n",
              "    box-shadow: 0px 1px 3px 1px rgba(0, 0, 0, 0.15);\n",
              "    filter: drop-shadow(0px 1px 2px rgba(0, 0, 0, 0.3));\n",
              "    fill: #FFFFFF;\n",
              "  }\n",
              "</style>\n",
              "\n",
              "  <script>\n",
              "    async function quickchart(key) {\n",
              "      const charts = await google.colab.kernel.invokeFunction(\n",
              "          'suggestCharts', [key], {});\n",
              "    }\n",
              "    (() => {\n",
              "      let quickchartButtonEl =\n",
              "        document.querySelector('#df-fb7db77f-fbf8-4239-b619-8e437c757e57 button');\n",
              "      quickchartButtonEl.style.display =\n",
              "        google.colab.kernel.accessAllowed ? 'block' : 'none';\n",
              "    })();\n",
              "  </script>\n",
              "</div>\n",
              "    </div>\n",
              "  </div>\n"
            ]
          },
          "metadata": {},
          "execution_count": 33
        }
      ],
      "source": [
        "prop_train = pd.DataFrame({'ds': train.index, 'y': train.values})\n",
        "prop_test = pd.DataFrame({'ds': test.index, 'y': test.values})\n",
        "prop_train"
      ]
    },
    {
      "cell_type": "code",
      "execution_count": 34,
      "id": "8c5ea89f-90f5-4f5c-977e-d7ba76fdf275",
      "metadata": {
        "colab": {
          "base_uri": "https://localhost:8080/"
        },
        "id": "8c5ea89f-90f5-4f5c-977e-d7ba76fdf275",
        "outputId": "bc9bdcdf-300b-41cc-ede2-fe233bf8b9f7"
      },
      "outputs": [
        {
          "output_type": "stream",
          "name": "stderr",
          "text": [
            "INFO:prophet:Disabling daily seasonality. Run prophet with daily_seasonality=True to override this.\n",
            "DEBUG:cmdstanpy:input tempfile: /tmp/tmplee3z_x2/apr5b1qm.json\n",
            "DEBUG:cmdstanpy:input tempfile: /tmp/tmplee3z_x2/x1hz228s.json\n",
            "DEBUG:cmdstanpy:idx 0\n",
            "DEBUG:cmdstanpy:running CmdStan, num_threads: None\n",
            "DEBUG:cmdstanpy:CmdStan args: ['/usr/local/lib/python3.10/dist-packages/prophet/stan_model/prophet_model.bin', 'random', 'seed=18478', 'data', 'file=/tmp/tmplee3z_x2/apr5b1qm.json', 'init=/tmp/tmplee3z_x2/x1hz228s.json', 'output', 'file=/tmp/tmplee3z_x2/prophet_model1nszdslf/prophet_model-20230820223436.csv', 'method=optimize', 'algorithm=lbfgs', 'iter=10000']\n",
            "22:34:36 - cmdstanpy - INFO - Chain [1] start processing\n",
            "INFO:cmdstanpy:Chain [1] start processing\n",
            "22:34:36 - cmdstanpy - INFO - Chain [1] done processing\n",
            "INFO:cmdstanpy:Chain [1] done processing\n"
          ]
        },
        {
          "output_type": "execute_result",
          "data": {
            "text/plain": [
              "<prophet.forecaster.Prophet at 0x78c89a62eb90>"
            ]
          },
          "metadata": {},
          "execution_count": 34
        }
      ],
      "source": [
        "model = Prophet()\n",
        "model.fit(prop_train)"
      ]
    },
    {
      "cell_type": "code",
      "execution_count": 35,
      "id": "454bfb37-0ed6-4396-8b06-b522b2729ae7",
      "metadata": {
        "colab": {
          "base_uri": "https://localhost:8080/",
          "height": 617
        },
        "id": "454bfb37-0ed6-4396-8b06-b522b2729ae7",
        "outputId": "f3a03f3e-5652-4c2e-ba20-834b87a904f3"
      },
      "outputs": [
        {
          "output_type": "execute_result",
          "data": {
            "text/plain": [
              "            ds       trend  yhat_lower  yhat_upper  trend_lower  trend_upper  \\\n",
              "0   2022-11-15  257.734140  229.824593  297.082271   257.734140   257.734140   \n",
              "1   2022-11-16  257.508257  231.693939  299.209609   257.508257   257.508257   \n",
              "2   2022-11-17  257.282374  235.613751  297.206256   257.282374   257.282374   \n",
              "3   2022-11-18  257.056491  235.370869  298.264324   257.056491   257.056491   \n",
              "4   2022-11-21  256.378842  242.092805  304.078455   256.378842   256.378842   \n",
              "..         ...         ...         ...         ...          ...          ...   \n",
              "176 2023-08-01  199.230468  136.779543  215.505661   176.177167   221.883838   \n",
              "177 2023-08-02  199.004585  137.821307  219.421675   175.644122   221.824168   \n",
              "178 2023-08-03  198.778702  135.087493  217.602949   175.110452   221.771037   \n",
              "179 2023-08-04  198.552819  135.545645  219.484549   174.640890   221.734077   \n",
              "180 2023-08-07  197.875170  138.081698  224.305278   173.816521   221.245350   \n",
              "\n",
              "     additive_terms  additive_terms_lower  additive_terms_upper    weekly  \\\n",
              "0          5.277844              5.277844              5.277844 -5.594478   \n",
              "1          7.337020              7.337020              7.337020 -5.362157   \n",
              "2          8.273649              8.273649              8.273649 -6.359213   \n",
              "3          9.677440              9.677440              9.677440 -6.972721   \n",
              "4         17.464621             17.464621             17.464621 -5.454863   \n",
              "..              ...                   ...                   ...       ...   \n",
              "176      -22.336228            -22.336228            -22.336228 -5.594478   \n",
              "177      -20.903369            -20.903369            -20.903369 -5.362157   \n",
              "178      -20.682463            -20.682463            -20.682463 -6.359213   \n",
              "179      -20.078688            -20.078688            -20.078688 -6.972721   \n",
              "180      -15.100245            -15.100245            -15.100245 -5.454863   \n",
              "\n",
              "     weekly_lower  weekly_upper     yearly  yearly_lower  yearly_upper  \\\n",
              "0       -5.594478     -5.594478  10.872323     10.872323     10.872323   \n",
              "1       -5.362157     -5.362157  12.699177     12.699177     12.699177   \n",
              "2       -6.359213     -6.359213  14.632861     14.632861     14.632861   \n",
              "3       -6.972721     -6.972721  16.650161     16.650161     16.650161   \n",
              "4       -5.454863     -5.454863  22.919484     22.919484     22.919484   \n",
              "..            ...           ...        ...           ...           ...   \n",
              "176     -5.594478     -5.594478 -16.741749    -16.741749    -16.741749   \n",
              "177     -5.362157     -5.362157 -15.541212    -15.541212    -15.541212   \n",
              "178     -6.359213     -6.359213 -14.323250    -14.323250    -14.323250   \n",
              "179     -6.972721     -6.972721 -13.105967    -13.105967    -13.105967   \n",
              "180     -5.454863     -5.454863  -9.645382     -9.645382     -9.645382   \n",
              "\n",
              "     multiplicative_terms  multiplicative_terms_lower  \\\n",
              "0                     0.0                         0.0   \n",
              "1                     0.0                         0.0   \n",
              "2                     0.0                         0.0   \n",
              "3                     0.0                         0.0   \n",
              "4                     0.0                         0.0   \n",
              "..                    ...                         ...   \n",
              "176                   0.0                         0.0   \n",
              "177                   0.0                         0.0   \n",
              "178                   0.0                         0.0   \n",
              "179                   0.0                         0.0   \n",
              "180                   0.0                         0.0   \n",
              "\n",
              "     multiplicative_terms_upper        yhat  \n",
              "0                           0.0  263.011984  \n",
              "1                           0.0  264.845277  \n",
              "2                           0.0  265.556023  \n",
              "3                           0.0  266.733931  \n",
              "4                           0.0  273.843463  \n",
              "..                          ...         ...  \n",
              "176                         0.0  176.894240  \n",
              "177                         0.0  178.101216  \n",
              "178                         0.0  178.096239  \n",
              "179                         0.0  178.474131  \n",
              "180                         0.0  182.774925  \n",
              "\n",
              "[181 rows x 19 columns]"
            ],
            "text/html": [
              "\n",
              "  <div id=\"df-3e57a093-4c88-4922-a355-8718faa30d21\" class=\"colab-df-container\">\n",
              "    <div>\n",
              "<style scoped>\n",
              "    .dataframe tbody tr th:only-of-type {\n",
              "        vertical-align: middle;\n",
              "    }\n",
              "\n",
              "    .dataframe tbody tr th {\n",
              "        vertical-align: top;\n",
              "    }\n",
              "\n",
              "    .dataframe thead th {\n",
              "        text-align: right;\n",
              "    }\n",
              "</style>\n",
              "<table border=\"1\" class=\"dataframe\">\n",
              "  <thead>\n",
              "    <tr style=\"text-align: right;\">\n",
              "      <th></th>\n",
              "      <th>ds</th>\n",
              "      <th>trend</th>\n",
              "      <th>yhat_lower</th>\n",
              "      <th>yhat_upper</th>\n",
              "      <th>trend_lower</th>\n",
              "      <th>trend_upper</th>\n",
              "      <th>additive_terms</th>\n",
              "      <th>additive_terms_lower</th>\n",
              "      <th>additive_terms_upper</th>\n",
              "      <th>weekly</th>\n",
              "      <th>weekly_lower</th>\n",
              "      <th>weekly_upper</th>\n",
              "      <th>yearly</th>\n",
              "      <th>yearly_lower</th>\n",
              "      <th>yearly_upper</th>\n",
              "      <th>multiplicative_terms</th>\n",
              "      <th>multiplicative_terms_lower</th>\n",
              "      <th>multiplicative_terms_upper</th>\n",
              "      <th>yhat</th>\n",
              "    </tr>\n",
              "  </thead>\n",
              "  <tbody>\n",
              "    <tr>\n",
              "      <th>0</th>\n",
              "      <td>2022-11-15</td>\n",
              "      <td>257.734140</td>\n",
              "      <td>229.824593</td>\n",
              "      <td>297.082271</td>\n",
              "      <td>257.734140</td>\n",
              "      <td>257.734140</td>\n",
              "      <td>5.277844</td>\n",
              "      <td>5.277844</td>\n",
              "      <td>5.277844</td>\n",
              "      <td>-5.594478</td>\n",
              "      <td>-5.594478</td>\n",
              "      <td>-5.594478</td>\n",
              "      <td>10.872323</td>\n",
              "      <td>10.872323</td>\n",
              "      <td>10.872323</td>\n",
              "      <td>0.0</td>\n",
              "      <td>0.0</td>\n",
              "      <td>0.0</td>\n",
              "      <td>263.011984</td>\n",
              "    </tr>\n",
              "    <tr>\n",
              "      <th>1</th>\n",
              "      <td>2022-11-16</td>\n",
              "      <td>257.508257</td>\n",
              "      <td>231.693939</td>\n",
              "      <td>299.209609</td>\n",
              "      <td>257.508257</td>\n",
              "      <td>257.508257</td>\n",
              "      <td>7.337020</td>\n",
              "      <td>7.337020</td>\n",
              "      <td>7.337020</td>\n",
              "      <td>-5.362157</td>\n",
              "      <td>-5.362157</td>\n",
              "      <td>-5.362157</td>\n",
              "      <td>12.699177</td>\n",
              "      <td>12.699177</td>\n",
              "      <td>12.699177</td>\n",
              "      <td>0.0</td>\n",
              "      <td>0.0</td>\n",
              "      <td>0.0</td>\n",
              "      <td>264.845277</td>\n",
              "    </tr>\n",
              "    <tr>\n",
              "      <th>2</th>\n",
              "      <td>2022-11-17</td>\n",
              "      <td>257.282374</td>\n",
              "      <td>235.613751</td>\n",
              "      <td>297.206256</td>\n",
              "      <td>257.282374</td>\n",
              "      <td>257.282374</td>\n",
              "      <td>8.273649</td>\n",
              "      <td>8.273649</td>\n",
              "      <td>8.273649</td>\n",
              "      <td>-6.359213</td>\n",
              "      <td>-6.359213</td>\n",
              "      <td>-6.359213</td>\n",
              "      <td>14.632861</td>\n",
              "      <td>14.632861</td>\n",
              "      <td>14.632861</td>\n",
              "      <td>0.0</td>\n",
              "      <td>0.0</td>\n",
              "      <td>0.0</td>\n",
              "      <td>265.556023</td>\n",
              "    </tr>\n",
              "    <tr>\n",
              "      <th>3</th>\n",
              "      <td>2022-11-18</td>\n",
              "      <td>257.056491</td>\n",
              "      <td>235.370869</td>\n",
              "      <td>298.264324</td>\n",
              "      <td>257.056491</td>\n",
              "      <td>257.056491</td>\n",
              "      <td>9.677440</td>\n",
              "      <td>9.677440</td>\n",
              "      <td>9.677440</td>\n",
              "      <td>-6.972721</td>\n",
              "      <td>-6.972721</td>\n",
              "      <td>-6.972721</td>\n",
              "      <td>16.650161</td>\n",
              "      <td>16.650161</td>\n",
              "      <td>16.650161</td>\n",
              "      <td>0.0</td>\n",
              "      <td>0.0</td>\n",
              "      <td>0.0</td>\n",
              "      <td>266.733931</td>\n",
              "    </tr>\n",
              "    <tr>\n",
              "      <th>4</th>\n",
              "      <td>2022-11-21</td>\n",
              "      <td>256.378842</td>\n",
              "      <td>242.092805</td>\n",
              "      <td>304.078455</td>\n",
              "      <td>256.378842</td>\n",
              "      <td>256.378842</td>\n",
              "      <td>17.464621</td>\n",
              "      <td>17.464621</td>\n",
              "      <td>17.464621</td>\n",
              "      <td>-5.454863</td>\n",
              "      <td>-5.454863</td>\n",
              "      <td>-5.454863</td>\n",
              "      <td>22.919484</td>\n",
              "      <td>22.919484</td>\n",
              "      <td>22.919484</td>\n",
              "      <td>0.0</td>\n",
              "      <td>0.0</td>\n",
              "      <td>0.0</td>\n",
              "      <td>273.843463</td>\n",
              "    </tr>\n",
              "    <tr>\n",
              "      <th>...</th>\n",
              "      <td>...</td>\n",
              "      <td>...</td>\n",
              "      <td>...</td>\n",
              "      <td>...</td>\n",
              "      <td>...</td>\n",
              "      <td>...</td>\n",
              "      <td>...</td>\n",
              "      <td>...</td>\n",
              "      <td>...</td>\n",
              "      <td>...</td>\n",
              "      <td>...</td>\n",
              "      <td>...</td>\n",
              "      <td>...</td>\n",
              "      <td>...</td>\n",
              "      <td>...</td>\n",
              "      <td>...</td>\n",
              "      <td>...</td>\n",
              "      <td>...</td>\n",
              "      <td>...</td>\n",
              "    </tr>\n",
              "    <tr>\n",
              "      <th>176</th>\n",
              "      <td>2023-08-01</td>\n",
              "      <td>199.230468</td>\n",
              "      <td>136.779543</td>\n",
              "      <td>215.505661</td>\n",
              "      <td>176.177167</td>\n",
              "      <td>221.883838</td>\n",
              "      <td>-22.336228</td>\n",
              "      <td>-22.336228</td>\n",
              "      <td>-22.336228</td>\n",
              "      <td>-5.594478</td>\n",
              "      <td>-5.594478</td>\n",
              "      <td>-5.594478</td>\n",
              "      <td>-16.741749</td>\n",
              "      <td>-16.741749</td>\n",
              "      <td>-16.741749</td>\n",
              "      <td>0.0</td>\n",
              "      <td>0.0</td>\n",
              "      <td>0.0</td>\n",
              "      <td>176.894240</td>\n",
              "    </tr>\n",
              "    <tr>\n",
              "      <th>177</th>\n",
              "      <td>2023-08-02</td>\n",
              "      <td>199.004585</td>\n",
              "      <td>137.821307</td>\n",
              "      <td>219.421675</td>\n",
              "      <td>175.644122</td>\n",
              "      <td>221.824168</td>\n",
              "      <td>-20.903369</td>\n",
              "      <td>-20.903369</td>\n",
              "      <td>-20.903369</td>\n",
              "      <td>-5.362157</td>\n",
              "      <td>-5.362157</td>\n",
              "      <td>-5.362157</td>\n",
              "      <td>-15.541212</td>\n",
              "      <td>-15.541212</td>\n",
              "      <td>-15.541212</td>\n",
              "      <td>0.0</td>\n",
              "      <td>0.0</td>\n",
              "      <td>0.0</td>\n",
              "      <td>178.101216</td>\n",
              "    </tr>\n",
              "    <tr>\n",
              "      <th>178</th>\n",
              "      <td>2023-08-03</td>\n",
              "      <td>198.778702</td>\n",
              "      <td>135.087493</td>\n",
              "      <td>217.602949</td>\n",
              "      <td>175.110452</td>\n",
              "      <td>221.771037</td>\n",
              "      <td>-20.682463</td>\n",
              "      <td>-20.682463</td>\n",
              "      <td>-20.682463</td>\n",
              "      <td>-6.359213</td>\n",
              "      <td>-6.359213</td>\n",
              "      <td>-6.359213</td>\n",
              "      <td>-14.323250</td>\n",
              "      <td>-14.323250</td>\n",
              "      <td>-14.323250</td>\n",
              "      <td>0.0</td>\n",
              "      <td>0.0</td>\n",
              "      <td>0.0</td>\n",
              "      <td>178.096239</td>\n",
              "    </tr>\n",
              "    <tr>\n",
              "      <th>179</th>\n",
              "      <td>2023-08-04</td>\n",
              "      <td>198.552819</td>\n",
              "      <td>135.545645</td>\n",
              "      <td>219.484549</td>\n",
              "      <td>174.640890</td>\n",
              "      <td>221.734077</td>\n",
              "      <td>-20.078688</td>\n",
              "      <td>-20.078688</td>\n",
              "      <td>-20.078688</td>\n",
              "      <td>-6.972721</td>\n",
              "      <td>-6.972721</td>\n",
              "      <td>-6.972721</td>\n",
              "      <td>-13.105967</td>\n",
              "      <td>-13.105967</td>\n",
              "      <td>-13.105967</td>\n",
              "      <td>0.0</td>\n",
              "      <td>0.0</td>\n",
              "      <td>0.0</td>\n",
              "      <td>178.474131</td>\n",
              "    </tr>\n",
              "    <tr>\n",
              "      <th>180</th>\n",
              "      <td>2023-08-07</td>\n",
              "      <td>197.875170</td>\n",
              "      <td>138.081698</td>\n",
              "      <td>224.305278</td>\n",
              "      <td>173.816521</td>\n",
              "      <td>221.245350</td>\n",
              "      <td>-15.100245</td>\n",
              "      <td>-15.100245</td>\n",
              "      <td>-15.100245</td>\n",
              "      <td>-5.454863</td>\n",
              "      <td>-5.454863</td>\n",
              "      <td>-5.454863</td>\n",
              "      <td>-9.645382</td>\n",
              "      <td>-9.645382</td>\n",
              "      <td>-9.645382</td>\n",
              "      <td>0.0</td>\n",
              "      <td>0.0</td>\n",
              "      <td>0.0</td>\n",
              "      <td>182.774925</td>\n",
              "    </tr>\n",
              "  </tbody>\n",
              "</table>\n",
              "<p>181 rows × 19 columns</p>\n",
              "</div>\n",
              "    <div class=\"colab-df-buttons\">\n",
              "\n",
              "  <div class=\"colab-df-container\">\n",
              "    <button class=\"colab-df-convert\" onclick=\"convertToInteractive('df-3e57a093-4c88-4922-a355-8718faa30d21')\"\n",
              "            title=\"Convert this dataframe to an interactive table.\"\n",
              "            style=\"display:none;\">\n",
              "\n",
              "  <svg xmlns=\"http://www.w3.org/2000/svg\" height=\"24px\" viewBox=\"0 -960 960 960\">\n",
              "    <path d=\"M120-120v-720h720v720H120Zm60-500h600v-160H180v160Zm220 220h160v-160H400v160Zm0 220h160v-160H400v160ZM180-400h160v-160H180v160Zm440 0h160v-160H620v160ZM180-180h160v-160H180v160Zm440 0h160v-160H620v160Z\"/>\n",
              "  </svg>\n",
              "    </button>\n",
              "\n",
              "  <style>\n",
              "    .colab-df-container {\n",
              "      display:flex;\n",
              "      gap: 12px;\n",
              "    }\n",
              "\n",
              "    .colab-df-convert {\n",
              "      background-color: #E8F0FE;\n",
              "      border: none;\n",
              "      border-radius: 50%;\n",
              "      cursor: pointer;\n",
              "      display: none;\n",
              "      fill: #1967D2;\n",
              "      height: 32px;\n",
              "      padding: 0 0 0 0;\n",
              "      width: 32px;\n",
              "    }\n",
              "\n",
              "    .colab-df-convert:hover {\n",
              "      background-color: #E2EBFA;\n",
              "      box-shadow: 0px 1px 2px rgba(60, 64, 67, 0.3), 0px 1px 3px 1px rgba(60, 64, 67, 0.15);\n",
              "      fill: #174EA6;\n",
              "    }\n",
              "\n",
              "    .colab-df-buttons div {\n",
              "      margin-bottom: 4px;\n",
              "    }\n",
              "\n",
              "    [theme=dark] .colab-df-convert {\n",
              "      background-color: #3B4455;\n",
              "      fill: #D2E3FC;\n",
              "    }\n",
              "\n",
              "    [theme=dark] .colab-df-convert:hover {\n",
              "      background-color: #434B5C;\n",
              "      box-shadow: 0px 1px 3px 1px rgba(0, 0, 0, 0.15);\n",
              "      filter: drop-shadow(0px 1px 2px rgba(0, 0, 0, 0.3));\n",
              "      fill: #FFFFFF;\n",
              "    }\n",
              "  </style>\n",
              "\n",
              "    <script>\n",
              "      const buttonEl =\n",
              "        document.querySelector('#df-3e57a093-4c88-4922-a355-8718faa30d21 button.colab-df-convert');\n",
              "      buttonEl.style.display =\n",
              "        google.colab.kernel.accessAllowed ? 'block' : 'none';\n",
              "\n",
              "      async function convertToInteractive(key) {\n",
              "        const element = document.querySelector('#df-3e57a093-4c88-4922-a355-8718faa30d21');\n",
              "        const dataTable =\n",
              "          await google.colab.kernel.invokeFunction('convertToInteractive',\n",
              "                                                    [key], {});\n",
              "        if (!dataTable) return;\n",
              "\n",
              "        const docLinkHtml = 'Like what you see? Visit the ' +\n",
              "          '<a target=\"_blank\" href=https://colab.research.google.com/notebooks/data_table.ipynb>data table notebook</a>'\n",
              "          + ' to learn more about interactive tables.';\n",
              "        element.innerHTML = '';\n",
              "        dataTable['output_type'] = 'display_data';\n",
              "        await google.colab.output.renderOutput(dataTable, element);\n",
              "        const docLink = document.createElement('div');\n",
              "        docLink.innerHTML = docLinkHtml;\n",
              "        element.appendChild(docLink);\n",
              "      }\n",
              "    </script>\n",
              "  </div>\n",
              "\n",
              "\n",
              "<div id=\"df-f1f04f89-7956-48ec-8e10-4e106873f594\">\n",
              "  <button class=\"colab-df-quickchart\" onclick=\"quickchart('df-f1f04f89-7956-48ec-8e10-4e106873f594')\"\n",
              "            title=\"Suggest charts.\"\n",
              "            style=\"display:none;\">\n",
              "\n",
              "<svg xmlns=\"http://www.w3.org/2000/svg\" height=\"24px\"viewBox=\"0 0 24 24\"\n",
              "     width=\"24px\">\n",
              "    <g>\n",
              "        <path d=\"M19 3H5c-1.1 0-2 .9-2 2v14c0 1.1.9 2 2 2h14c1.1 0 2-.9 2-2V5c0-1.1-.9-2-2-2zM9 17H7v-7h2v7zm4 0h-2V7h2v10zm4 0h-2v-4h2v4z\"/>\n",
              "    </g>\n",
              "</svg>\n",
              "  </button>\n",
              "\n",
              "<style>\n",
              "  .colab-df-quickchart {\n",
              "    background-color: #E8F0FE;\n",
              "    border: none;\n",
              "    border-radius: 50%;\n",
              "    cursor: pointer;\n",
              "    display: none;\n",
              "    fill: #1967D2;\n",
              "    height: 32px;\n",
              "    padding: 0 0 0 0;\n",
              "    width: 32px;\n",
              "  }\n",
              "\n",
              "  .colab-df-quickchart:hover {\n",
              "    background-color: #E2EBFA;\n",
              "    box-shadow: 0px 1px 2px rgba(60, 64, 67, 0.3), 0px 1px 3px 1px rgba(60, 64, 67, 0.15);\n",
              "    fill: #174EA6;\n",
              "  }\n",
              "\n",
              "  [theme=dark] .colab-df-quickchart {\n",
              "    background-color: #3B4455;\n",
              "    fill: #D2E3FC;\n",
              "  }\n",
              "\n",
              "  [theme=dark] .colab-df-quickchart:hover {\n",
              "    background-color: #434B5C;\n",
              "    box-shadow: 0px 1px 3px 1px rgba(0, 0, 0, 0.15);\n",
              "    filter: drop-shadow(0px 1px 2px rgba(0, 0, 0, 0.3));\n",
              "    fill: #FFFFFF;\n",
              "  }\n",
              "</style>\n",
              "\n",
              "  <script>\n",
              "    async function quickchart(key) {\n",
              "      const charts = await google.colab.kernel.invokeFunction(\n",
              "          'suggestCharts', [key], {});\n",
              "    }\n",
              "    (() => {\n",
              "      let quickchartButtonEl =\n",
              "        document.querySelector('#df-f1f04f89-7956-48ec-8e10-4e106873f594 button');\n",
              "      quickchartButtonEl.style.display =\n",
              "        google.colab.kernel.accessAllowed ? 'block' : 'none';\n",
              "    })();\n",
              "  </script>\n",
              "</div>\n",
              "    </div>\n",
              "  </div>\n"
            ]
          },
          "metadata": {},
          "execution_count": 35
        }
      ],
      "source": [
        "# future = model.make_future_dataframe(periods=len(test))\n",
        "train_future = prop_train[['ds']]\n",
        "test_future = prop_test[['ds']]\n",
        "# future = pd.DataFrame(df.index.values, columns=[\"ds\"])\n",
        "train_forecast = model.predict(train_future)\n",
        "test_forecast = model.predict(test_future)\n",
        "test_forecast"
      ]
    },
    {
      "cell_type": "code",
      "execution_count": 36,
      "id": "d4b7bbc8-0f8d-4938-bcd5-84ecf1c74db5",
      "metadata": {
        "id": "d4b7bbc8-0f8d-4938-bcd5-84ecf1c74db5"
      },
      "outputs": [],
      "source": [
        "# pred = []\n",
        "# gain = []\n",
        "# net_holding = 0\n",
        "# orders_df = pd.DataFrame(0, index=order_df_date, columns=[\"trade\"], dtype=np.float32)\n",
        "\n",
        "# for i in range(len(prop_test)):\n",
        "#     prop_model = Prophet()\n",
        "#     prop_fitted_model = prop_model.fit(prop_train)\n",
        "#     future = prop_fitted_model.make_future_dataframe(periods=1)\n",
        "#     output = prop_fitted_model.predict(future)\n",
        "#     yhat = output.iloc[-1].yhat\n",
        "#     pred.append(yhat)\n",
        "#     target = prop_test[i]\n",
        "\n",
        "#     # Assuming each trade contains at least 1000 shares\n",
        "#     price_change = (yhat - prop_train.iloc[-1].y) * 1000\n",
        "#     if price_change >= 50:\n",
        "#         orders_df.iloc[i] = 1000 - net_holding\n",
        "#     elif price_change <= -50:\n",
        "#         orders_df.iloc[i] = -1000 - net_holding\n",
        "#     else:\n",
        "#         orders_df.iloc[i] = 0\n",
        "#     # print(f\"yhat: {yhat}, prop_train[-1] {prop_train[-1]}, price change: {price_change}, {orders_df.iloc[i]}\")\n",
        "#     net_holding += orders_df.iloc[i][0]\n",
        "\n",
        "#     gain.append(price_change)\n",
        "#     new_row = pd.DataFrame({'yhat': [prop_test[i]], \"ds\": [output.iloc[-1].ds]})\n",
        "#     prop_train = pd.concat([prop_train, new_row])"
      ]
    },
    {
      "cell_type": "code",
      "execution_count": 37,
      "id": "7f2ca5fa-c0b6-4187-91cd-bcf843e31b0c",
      "metadata": {
        "colab": {
          "base_uri": "https://localhost:8080/",
          "height": 562
        },
        "id": "7f2ca5fa-c0b6-4187-91cd-bcf843e31b0c",
        "outputId": "d8d713af-c9f7-4cf8-cb12-1ae8af9c498e"
      },
      "outputs": [
        {
          "output_type": "stream",
          "name": "stdout",
          "text": [
            "Test Mean: 194.379\n",
            "Test RMSE: 89.933\n",
            "Test MAE: 78.366\n"
          ]
        },
        {
          "output_type": "display_data",
          "data": {
            "text/plain": [
              "<Figure size 640x480 with 1 Axes>"
            ],
            "image/png": "[encoded data removed]"
          },
          "metadata": {}
        }
      ],
      "source": [
        "pred = test_forecast[\"yhat\"].values\n",
        "rmse = math.sqrt(mean_squared_error(prop_test['y'].values, pred))\n",
        "print('Test Mean: %.3f' % prop_test['y'].values.mean())\n",
        "print('Test RMSE: %.3f' % rmse)\n",
        "mae = mean_absolute_error(prop_test['y'].values, pred)\n",
        "print('Test MAE: %.3f' % mae)\n",
        "\n",
        "# plot forecasts against actual outcomes\n",
        "plt.plot(train.index.values, train.values, label=\"y_train\", linestyle='-', linewidth=1.5, alpha=0.7)\n",
        "plt.plot(train.index.values, train_forecast[\"yhat\"].values, label=\"train_pred\", linestyle='--', linewidth=2, alpha=1)\n",
        "plt.plot(test_date, test.values, label=\"y_test\", linestyle='-', linewidth=1.5, alpha=0.7)\n",
        "plt.plot(test_date, test_forecast[\"yhat\"].values, label=\"test_pred\", linestyle='--', linewidth=2, alpha=1)\n",
        "\n",
        "plt.legend()\n",
        "plt.xticks(rotation = 45)\n",
        "plt.title(f\"{symbol} Stock Prediction\")\n",
        "plt.xlabel(\"Dates\")\n",
        "plt.ylabel(\"Closing Price\")\n",
        "plt.show()"
      ]
    },
    {
      "cell_type": "code",
      "source": [],
      "metadata": {
        "id": "5DvveTRN-0-I"
      },
      "id": "5DvveTRN-0-I",
      "execution_count": 37,
      "outputs": []
    },
    {
      "cell_type": "markdown",
      "source": [
        "# LSTM (Long short-term memory)"
      ],
      "metadata": {
        "id": "2lrhi3ZBNbCq"
      },
      "id": "2lrhi3ZBNbCq"
    },
    {
      "cell_type": "code",
      "source": [
        "scaler = MinMaxScaler()\n",
        "scaled_data = scaler.fit_transform(df[['Adj Close']])\n",
        "scaled_df = pd.DataFrame(scaled_data, columns=[\"target\"])"
      ],
      "metadata": {
        "id": "L2Oogg6cNe4C"
      },
      "id": "L2Oogg6cNe4C",
      "execution_count": 38,
      "outputs": []
    },
    {
      "cell_type": "code",
      "source": [
        "training_size = round(len(scaled_df) * 0.80)\n",
        "training_size"
      ],
      "metadata": {
        "colab": {
          "base_uri": "https://localhost:8080/"
        },
        "id": "LS5in0BHNjvh",
        "outputId": "c3de1b45-d64a-4192-fcc9-91dc6f76d179"
      },
      "id": "LS5in0BHNjvh",
      "execution_count": 39,
      "outputs": [
        {
          "output_type": "execute_result",
          "data": {
            "text/plain": [
              "724"
            ]
          },
          "metadata": {},
          "execution_count": 39
        }
      ]
    },
    {
      "cell_type": "code",
      "source": [
        "train_data = scaled_df[:training_size]\n",
        "test_data  = scaled_df[training_size:]\n",
        "train_data.shape, test_data.shape"
      ],
      "metadata": {
        "colab": {
          "base_uri": "https://localhost:8080/"
        },
        "id": "6P4c86m4NyJd",
        "outputId": "66221e1e-6576-4209-b07b-14a84ab1545c"
      },
      "id": "6P4c86m4NyJd",
      "execution_count": 40,
      "outputs": [
        {
          "output_type": "execute_result",
          "data": {
            "text/plain": [
              "((724, 1), (181, 1))"
            ]
          },
          "metadata": {},
          "execution_count": 40
        }
      ]
    },
    {
      "cell_type": "code",
      "source": [
        "def create_sequence(dataset):\n",
        "  sequences = []\n",
        "  labels = []\n",
        "\n",
        "  start_idx = 0\n",
        "\n",
        "  for stop_idx in range(50,len(dataset)): # Selecting 50 rows at a time\n",
        "    sequences.append(dataset.iloc[start_idx:stop_idx])\n",
        "    labels.append(dataset.iloc[stop_idx])\n",
        "    start_idx += 1\n",
        "  return (np.array(sequences),np.array(labels))"
      ],
      "metadata": {
        "id": "wRBLyZcZNzsE"
      },
      "id": "wRBLyZcZNzsE",
      "execution_count": 41,
      "outputs": []
    },
    {
      "cell_type": "code",
      "source": [
        "train_seq, train_label = create_sequence(train_data)\n",
        "test_seq, test_label = create_sequence(test_data)\n",
        "train_seq.shape, train_label.shape, test_seq.shape, test_label.shape"
      ],
      "metadata": {
        "colab": {
          "base_uri": "https://localhost:8080/"
        },
        "id": "kUKK2rPuN4S4",
        "outputId": "6b30df32-d53f-436a-9676-d255cf49ed85"
      },
      "id": "kUKK2rPuN4S4",
      "execution_count": 42,
      "outputs": [
        {
          "output_type": "execute_result",
          "data": {
            "text/plain": [
              "((674, 50, 1), (674, 1), (131, 50, 1), (131, 1))"
            ]
          },
          "metadata": {},
          "execution_count": 42
        }
      ]
    },
    {
      "cell_type": "code",
      "source": [
        "model = Sequential()\n",
        "model.add(LSTM(units=50, return_sequences=True, input_shape = (train_seq.shape[1], train_seq.shape[2])))\n",
        "\n",
        "model.add(Dropout(0.1))\n",
        "model.add(LSTM(units=50))\n",
        "\n",
        "model.add(Dense(1))\n",
        "\n",
        "model.compile(loss='mean_squared_error', optimizer='adam', metrics=['mean_absolute_error'])\n",
        "\n",
        "model.summary()"
      ],
      "metadata": {
        "colab": {
          "base_uri": "https://localhost:8080/"
        },
        "id": "SMLYwdHUSUzh",
        "outputId": "4f0add79-8736-4a7f-c07d-106d856ae71c"
      },
      "id": "SMLYwdHUSUzh",
      "execution_count": 43,
      "outputs": [
        {
          "output_type": "stream",
          "name": "stdout",
          "text": [
            "Model: \"sequential\"\n",
            "_________________________________________________________________\n",
            " Layer (type)                Output Shape              Param #   \n",
            "=================================================================\n",
            " lstm (LSTM)                 (None, 50, 50)            10400     \n",
            "                                                                 \n",
            " dropout (Dropout)           (None, 50, 50)            0         \n",
            "                                                                 \n",
            " lstm_1 (LSTM)               (None, 50)                20200     \n",
            "                                                                 \n",
            " dense (Dense)               (None, 1)                 51        \n",
            "                                                                 \n",
            "=================================================================\n",
            "Total params: 30,651\n",
            "Trainable params: 30,651\n",
            "Non-trainable params: 0\n",
            "_________________________________________________________________\n"
          ]
        }
      ]
    },
    {
      "cell_type": "code",
      "source": [
        "model.fit(train_seq, train_label, epochs=30, validation_data=(test_seq, test_label), verbose=1)"
      ],
      "metadata": {
        "colab": {
          "base_uri": "https://localhost:8080/"
        },
        "id": "RylaiqH7SXk3",
        "outputId": "e3296852-6430-42a6-d188-6bbd4e461f1a"
      },
      "id": "RylaiqH7SXk3",
      "execution_count": 44,
      "outputs": [
        {
          "output_type": "stream",
          "name": "stdout",
          "text": [
            "Epoch 1/30\n",
            "22/22 [==============================] - 5s 69ms/step - loss: 0.0916 - mean_absolute_error: 0.2170 - val_loss: 0.0096 - val_mean_absolute_error: 0.0825\n",
            "Epoch 2/30\n",
            "22/22 [==============================] - 1s 37ms/step - loss: 0.0086 - mean_absolute_error: 0.0742 - val_loss: 0.0030 - val_mean_absolute_error: 0.0436\n",
            "Epoch 3/30\n",
            "22/22 [==============================] - 1s 40ms/step - loss: 0.0050 - mean_absolute_error: 0.0565 - val_loss: 0.0025 - val_mean_absolute_error: 0.0418\n",
            "Epoch 4/30\n",
            "22/22 [==============================] - 1s 40ms/step - loss: 0.0046 - mean_absolute_error: 0.0509 - val_loss: 0.0026 - val_mean_absolute_error: 0.0408\n",
            "Epoch 5/30\n",
            "22/22 [==============================] - 1s 50ms/step - loss: 0.0035 - mean_absolute_error: 0.0440 - val_loss: 0.0032 - val_mean_absolute_error: 0.0437\n",
            "Epoch 6/30\n",
            "22/22 [==============================] - 1s 49ms/step - loss: 0.0035 - mean_absolute_error: 0.0423 - val_loss: 0.0024 - val_mean_absolute_error: 0.0396\n",
            "Epoch 7/30\n",
            "22/22 [==============================] - 1s 38ms/step - loss: 0.0035 - mean_absolute_error: 0.0425 - val_loss: 0.0023 - val_mean_absolute_error: 0.0400\n",
            "Epoch 8/30\n",
            "22/22 [==============================] - 1s 38ms/step - loss: 0.0032 - mean_absolute_error: 0.0404 - val_loss: 0.0025 - val_mean_absolute_error: 0.0423\n",
            "Epoch 9/30\n",
            "22/22 [==============================] - 1s 37ms/step - loss: 0.0033 - mean_absolute_error: 0.0418 - val_loss: 0.0021 - val_mean_absolute_error: 0.0379\n",
            "Epoch 10/30\n",
            "22/22 [==============================] - 1s 40ms/step - loss: 0.0029 - mean_absolute_error: 0.0388 - val_loss: 0.0029 - val_mean_absolute_error: 0.0415\n",
            "Epoch 11/30\n",
            "22/22 [==============================] - 1s 41ms/step - loss: 0.0034 - mean_absolute_error: 0.0422 - val_loss: 0.0019 - val_mean_absolute_error: 0.0364\n",
            "Epoch 12/30\n",
            "22/22 [==============================] - 1s 38ms/step - loss: 0.0032 - mean_absolute_error: 0.0410 - val_loss: 0.0019 - val_mean_absolute_error: 0.0349\n",
            "Epoch 13/30\n",
            "22/22 [==============================] - 1s 39ms/step - loss: 0.0027 - mean_absolute_error: 0.0380 - val_loss: 0.0018 - val_mean_absolute_error: 0.0344\n",
            "Epoch 14/30\n",
            "22/22 [==============================] - 1s 37ms/step - loss: 0.0026 - mean_absolute_error: 0.0378 - val_loss: 0.0017 - val_mean_absolute_error: 0.0340\n",
            "Epoch 15/30\n",
            "22/22 [==============================] - 1s 38ms/step - loss: 0.0025 - mean_absolute_error: 0.0363 - val_loss: 0.0019 - val_mean_absolute_error: 0.0366\n",
            "Epoch 16/30\n",
            "22/22 [==============================] - 1s 39ms/step - loss: 0.0027 - mean_absolute_error: 0.0383 - val_loss: 0.0015 - val_mean_absolute_error: 0.0330\n",
            "Epoch 17/30\n",
            "22/22 [==============================] - 1s 39ms/step - loss: 0.0026 - mean_absolute_error: 0.0376 - val_loss: 0.0015 - val_mean_absolute_error: 0.0310\n",
            "Epoch 18/30\n",
            "22/22 [==============================] - 1s 45ms/step - loss: 0.0023 - mean_absolute_error: 0.0356 - val_loss: 0.0014 - val_mean_absolute_error: 0.0307\n",
            "Epoch 19/30\n",
            "22/22 [==============================] - 1s 52ms/step - loss: 0.0022 - mean_absolute_error: 0.0346 - val_loss: 0.0014 - val_mean_absolute_error: 0.0309\n",
            "Epoch 20/30\n",
            "22/22 [==============================] - 1s 44ms/step - loss: 0.0026 - mean_absolute_error: 0.0371 - val_loss: 0.0013 - val_mean_absolute_error: 0.0307\n",
            "Epoch 21/30\n",
            "22/22 [==============================] - 1s 38ms/step - loss: 0.0023 - mean_absolute_error: 0.0349 - val_loss: 0.0013 - val_mean_absolute_error: 0.0305\n",
            "Epoch 22/30\n",
            "22/22 [==============================] - 1s 40ms/step - loss: 0.0022 - mean_absolute_error: 0.0345 - val_loss: 0.0012 - val_mean_absolute_error: 0.0284\n",
            "Epoch 23/30\n",
            "22/22 [==============================] - 1s 39ms/step - loss: 0.0021 - mean_absolute_error: 0.0339 - val_loss: 0.0014 - val_mean_absolute_error: 0.0296\n",
            "Epoch 24/30\n",
            "22/22 [==============================] - 1s 39ms/step - loss: 0.0023 - mean_absolute_error: 0.0344 - val_loss: 0.0014 - val_mean_absolute_error: 0.0309\n",
            "Epoch 25/30\n",
            "22/22 [==============================] - 1s 39ms/step - loss: 0.0019 - mean_absolute_error: 0.0321 - val_loss: 0.0011 - val_mean_absolute_error: 0.0269\n",
            "Epoch 26/30\n",
            "22/22 [==============================] - 1s 41ms/step - loss: 0.0022 - mean_absolute_error: 0.0341 - val_loss: 0.0011 - val_mean_absolute_error: 0.0281\n",
            "Epoch 27/30\n",
            "22/22 [==============================] - 1s 39ms/step - loss: 0.0020 - mean_absolute_error: 0.0330 - val_loss: 0.0010 - val_mean_absolute_error: 0.0262\n",
            "Epoch 28/30\n",
            "22/22 [==============================] - 1s 39ms/step - loss: 0.0019 - mean_absolute_error: 0.0317 - val_loss: 9.9301e-04 - val_mean_absolute_error: 0.0256\n",
            "Epoch 29/30\n",
            "22/22 [==============================] - 1s 37ms/step - loss: 0.0020 - mean_absolute_error: 0.0326 - val_loss: 9.9778e-04 - val_mean_absolute_error: 0.0259\n",
            "Epoch 30/30\n",
            "22/22 [==============================] - 1s 37ms/step - loss: 0.0019 - mean_absolute_error: 0.0323 - val_loss: 9.8613e-04 - val_mean_absolute_error: 0.0254\n"
          ]
        },
        {
          "output_type": "execute_result",
          "data": {
            "text/plain": [
              "<keras.callbacks.History at 0x78c899cff880>"
            ]
          },
          "metadata": {},
          "execution_count": 44
        }
      ]
    },
    {
      "cell_type": "code",
      "source": [
        "pred = model.predict(test_seq)\n",
        "pred[:5]"
      ],
      "metadata": {
        "colab": {
          "base_uri": "https://localhost:8080/"
        },
        "id": "zH2H7HhySaBo",
        "outputId": "17b5c7a3-87bc-459b-e380-f43aac7e1c9c"
      },
      "id": "zH2H7HhySaBo",
      "execution_count": 45,
      "outputs": [
        {
          "output_type": "stream",
          "name": "stdout",
          "text": [
            "5/5 [==============================] - 1s 9ms/step\n"
          ]
        },
        {
          "output_type": "execute_result",
          "data": {
            "text/plain": [
              "array([[0.3219063 ],\n",
              "       [0.33684522],\n",
              "       [0.35172114],\n",
              "       [0.3671249 ],\n",
              "       [0.38308993]], dtype=float32)"
            ]
          },
          "metadata": {},
          "execution_count": 45
        }
      ]
    },
    {
      "cell_type": "code",
      "source": [
        "inverse_pred = scaler.inverse_transform(pred) # Inversing scaling on predicted data\n",
        "inverse_pred[:5]"
      ],
      "metadata": {
        "colab": {
          "base_uri": "https://localhost:8080/"
        },
        "id": "1WblGHnwSeUT",
        "outputId": "049a51ac-844c-4361-9b51-86a25108d200"
      },
      "id": "1WblGHnwSeUT",
      "execution_count": 46,
      "outputs": [
        {
          "output_type": "execute_result",
          "data": {
            "text/plain": [
              "array([[148.30133],\n",
              "       [154.06609],\n",
              "       [159.80653],\n",
              "       [165.75067],\n",
              "       [171.91139]], dtype=float32)"
            ]
          },
          "metadata": {},
          "execution_count": 46
        }
      ]
    },
    {
      "cell_type": "code",
      "source": [
        "lstm_res = pd.concat([scaled_df.iloc[-131:].copy(), pd.DataFrame(inverse_pred, columns=['pred'],\n",
        "                                                                    index=scaled_df.iloc[-131:].index)], axis=1)"
      ],
      "metadata": {
        "id": "tFbbdC5WTwO8"
      },
      "id": "tFbbdC5WTwO8",
      "execution_count": 47,
      "outputs": []
    },
    {
      "cell_type": "code",
      "source": [
        "lstm_res[[\"target\"]] = scaler.inverse_transform(lstm_res[[\"target\"]])"
      ],
      "metadata": {
        "id": "eADGs2_MUUyl"
      },
      "id": "eADGs2_MUUyl",
      "execution_count": 48,
      "outputs": []
    },
    {
      "cell_type": "code",
      "source": [
        "lstm_res[['target','pred']].plot(figsize=(10,6))\n",
        "plt.plot(upper_band)\n",
        "plt.plot(lower_band)\n",
        "plt.xticks(rotation=45)\n",
        "plt.xlabel('Date',size=15)\n",
        "plt.ylabel('Stock Price',size=15)\n",
        "plt.title('Actual vs Predicted for open price',size=15)\n",
        "plt.show()"
      ],
      "metadata": {
        "colab": {
          "base_uri": "https://localhost:8080/",
          "height": 593
        },
        "id": "CB4AFcx2XpIh",
        "outputId": "51832621-ce7c-4a4b-fdc7-64842dac60cb"
      },
      "id": "CB4AFcx2XpIh",
      "execution_count": 49,
      "outputs": [
        {
          "output_type": "display_data",
          "data": {
            "text/plain": [
              "<Figure size 1000x600 with 1 Axes>"
            ],
            "image/png": "[encoded data removed]"
          },
          "metadata": {}
        }
      ]
    },
    {
      "cell_type": "code",
      "source": [],
      "metadata": {
        "id": "1FNSCDHTXwcQ"
      },
      "id": "1FNSCDHTXwcQ",
      "execution_count": 49,
      "outputs": []
    },
    {
      "cell_type": "code",
      "source": [
        "lstm_res[['target','pred']]"
      ],
      "metadata": {
        "id": "GmEuKIRwX4-k",
        "outputId": "3b8af6dc-767d-44c1-d1e9-dc53317c5c08",
        "colab": {
          "base_uri": "https://localhost:8080/",
          "height": 424
        }
      },
      "id": "GmEuKIRwX4-k",
      "execution_count": 50,
      "outputs": [
        {
          "output_type": "execute_result",
          "data": {
            "text/plain": [
              "         target        pred\n",
              "774  166.660004  148.301331\n",
              "775  173.220001  154.066086\n",
              "776  181.410004  159.806534\n",
              "777  188.270004  165.750671\n",
              "778  189.979996  171.911392\n",
              "..          ...         ...\n",
              "900  261.070007  262.621674\n",
              "901  254.110001  261.242188\n",
              "902  259.320007  259.424377\n",
              "903  253.860001  258.131805\n",
              "904  251.449997  256.678772\n",
              "\n",
              "[131 rows x 2 columns]"
            ],
            "text/html": [
              "\n",
              "  <div id=\"df-a6cced7f-15be-49da-a17d-06b1e312abec\" class=\"colab-df-container\">\n",
              "    <div>\n",
              "<style scoped>\n",
              "    .dataframe tbody tr th:only-of-type {\n",
              "        vertical-align: middle;\n",
              "    }\n",
              "\n",
              "    .dataframe tbody tr th {\n",
              "        vertical-align: top;\n",
              "    }\n",
              "\n",
              "    .dataframe thead th {\n",
              "        text-align: right;\n",
              "    }\n",
              "</style>\n",
              "<table border=\"1\" class=\"dataframe\">\n",
              "  <thead>\n",
              "    <tr style=\"text-align: right;\">\n",
              "      <th></th>\n",
              "      <th>target</th>\n",
              "      <th>pred</th>\n",
              "    </tr>\n",
              "  </thead>\n",
              "  <tbody>\n",
              "    <tr>\n",
              "      <th>774</th>\n",
              "      <td>166.660004</td>\n",
              "      <td>148.301331</td>\n",
              "    </tr>\n",
              "    <tr>\n",
              "      <th>775</th>\n",
              "      <td>173.220001</td>\n",
              "      <td>154.066086</td>\n",
              "    </tr>\n",
              "    <tr>\n",
              "      <th>776</th>\n",
              "      <td>181.410004</td>\n",
              "      <td>159.806534</td>\n",
              "    </tr>\n",
              "    <tr>\n",
              "      <th>777</th>\n",
              "      <td>188.270004</td>\n",
              "      <td>165.750671</td>\n",
              "    </tr>\n",
              "    <tr>\n",
              "      <th>778</th>\n",
              "      <td>189.979996</td>\n",
              "      <td>171.911392</td>\n",
              "    </tr>\n",
              "    <tr>\n",
              "      <th>...</th>\n",
              "      <td>...</td>\n",
              "      <td>...</td>\n",
              "    </tr>\n",
              "    <tr>\n",
              "      <th>900</th>\n",
              "      <td>261.070007</td>\n",
              "      <td>262.621674</td>\n",
              "    </tr>\n",
              "    <tr>\n",
              "      <th>901</th>\n",
              "      <td>254.110001</td>\n",
              "      <td>261.242188</td>\n",
              "    </tr>\n",
              "    <tr>\n",
              "      <th>902</th>\n",
              "      <td>259.320007</td>\n",
              "      <td>259.424377</td>\n",
              "    </tr>\n",
              "    <tr>\n",
              "      <th>903</th>\n",
              "      <td>253.860001</td>\n",
              "      <td>258.131805</td>\n",
              "    </tr>\n",
              "    <tr>\n",
              "      <th>904</th>\n",
              "      <td>251.449997</td>\n",
              "      <td>256.678772</td>\n",
              "    </tr>\n",
              "  </tbody>\n",
              "</table>\n",
              "<p>131 rows × 2 columns</p>\n",
              "</div>\n",
              "    <div class=\"colab-df-buttons\">\n",
              "\n",
              "  <div class=\"colab-df-container\">\n",
              "    <button class=\"colab-df-convert\" onclick=\"convertToInteractive('df-a6cced7f-15be-49da-a17d-06b1e312abec')\"\n",
              "            title=\"Convert this dataframe to an interactive table.\"\n",
              "            style=\"display:none;\">\n",
              "\n",
              "  <svg xmlns=\"http://www.w3.org/2000/svg\" height=\"24px\" viewBox=\"0 -960 960 960\">\n",
              "    <path d=\"M120-120v-720h720v720H120Zm60-500h600v-160H180v160Zm220 220h160v-160H400v160Zm0 220h160v-160H400v160ZM180-400h160v-160H180v160Zm440 0h160v-160H620v160ZM180-180h160v-160H180v160Zm440 0h160v-160H620v160Z\"/>\n",
              "  </svg>\n",
              "    </button>\n",
              "\n",
              "  <style>\n",
              "    .colab-df-container {\n",
              "      display:flex;\n",
              "      gap: 12px;\n",
              "    }\n",
              "\n",
              "    .colab-df-convert {\n",
              "      background-color: #E8F0FE;\n",
              "      border: none;\n",
              "      border-radius: 50%;\n",
              "      cursor: pointer;\n",
              "      display: none;\n",
              "      fill: #1967D2;\n",
              "      height: 32px;\n",
              "      padding: 0 0 0 0;\n",
              "      width: 32px;\n",
              "    }\n",
              "\n",
              "    .colab-df-convert:hover {\n",
              "      background-color: #E2EBFA;\n",
              "      box-shadow: 0px 1px 2px rgba(60, 64, 67, 0.3), 0px 1px 3px 1px rgba(60, 64, 67, 0.15);\n",
              "      fill: #174EA6;\n",
              "    }\n",
              "\n",
              "    .colab-df-buttons div {\n",
              "      margin-bottom: 4px;\n",
              "    }\n",
              "\n",
              "    [theme=dark] .colab-df-convert {\n",
              "      background-color: #3B4455;\n",
              "      fill: #D2E3FC;\n",
              "    }\n",
              "\n",
              "    [theme=dark] .colab-df-convert:hover {\n",
              "      background-color: #434B5C;\n",
              "      box-shadow: 0px 1px 3px 1px rgba(0, 0, 0, 0.15);\n",
              "      filter: drop-shadow(0px 1px 2px rgba(0, 0, 0, 0.3));\n",
              "      fill: #FFFFFF;\n",
              "    }\n",
              "  </style>\n",
              "\n",
              "    <script>\n",
              "      const buttonEl =\n",
              "        document.querySelector('#df-a6cced7f-15be-49da-a17d-06b1e312abec button.colab-df-convert');\n",
              "      buttonEl.style.display =\n",
              "        google.colab.kernel.accessAllowed ? 'block' : 'none';\n",
              "\n",
              "      async function convertToInteractive(key) {\n",
              "        const element = document.querySelector('#df-a6cced7f-15be-49da-a17d-06b1e312abec');\n",
              "        const dataTable =\n",
              "          await google.colab.kernel.invokeFunction('convertToInteractive',\n",
              "                                                    [key], {});\n",
              "        if (!dataTable) return;\n",
              "\n",
              "        const docLinkHtml = 'Like what you see? Visit the ' +\n",
              "          '<a target=\"_blank\" href=https://colab.research.google.com/notebooks/data_table.ipynb>data table notebook</a>'\n",
              "          + ' to learn more about interactive tables.';\n",
              "        element.innerHTML = '';\n",
              "        dataTable['output_type'] = 'display_data';\n",
              "        await google.colab.output.renderOutput(dataTable, element);\n",
              "        const docLink = document.createElement('div');\n",
              "        docLink.innerHTML = docLinkHtml;\n",
              "        element.appendChild(docLink);\n",
              "      }\n",
              "    </script>\n",
              "  </div>\n",
              "\n",
              "\n",
              "<div id=\"df-b556c417-b0ae-4900-82c4-c879078ed093\">\n",
              "  <button class=\"colab-df-quickchart\" onclick=\"quickchart('df-b556c417-b0ae-4900-82c4-c879078ed093')\"\n",
              "            title=\"Suggest charts.\"\n",
              "            style=\"display:none;\">\n",
              "\n",
              "<svg xmlns=\"http://www.w3.org/2000/svg\" height=\"24px\"viewBox=\"0 0 24 24\"\n",
              "     width=\"24px\">\n",
              "    <g>\n",
              "        <path d=\"M19 3H5c-1.1 0-2 .9-2 2v14c0 1.1.9 2 2 2h14c1.1 0 2-.9 2-2V5c0-1.1-.9-2-2-2zM9 17H7v-7h2v7zm4 0h-2V7h2v10zm4 0h-2v-4h2v4z\"/>\n",
              "    </g>\n",
              "</svg>\n",
              "  </button>\n",
              "\n",
              "<style>\n",
              "  .colab-df-quickchart {\n",
              "    background-color: #E8F0FE;\n",
              "    border: none;\n",
              "    border-radius: 50%;\n",
              "    cursor: pointer;\n",
              "    display: none;\n",
              "    fill: #1967D2;\n",
              "    height: 32px;\n",
              "    padding: 0 0 0 0;\n",
              "    width: 32px;\n",
              "  }\n",
              "\n",
              "  .colab-df-quickchart:hover {\n",
              "    background-color: #E2EBFA;\n",
              "    box-shadow: 0px 1px 2px rgba(60, 64, 67, 0.3), 0px 1px 3px 1px rgba(60, 64, 67, 0.15);\n",
              "    fill: #174EA6;\n",
              "  }\n",
              "\n",
              "  [theme=dark] .colab-df-quickchart {\n",
              "    background-color: #3B4455;\n",
              "    fill: #D2E3FC;\n",
              "  }\n",
              "\n",
              "  [theme=dark] .colab-df-quickchart:hover {\n",
              "    background-color: #434B5C;\n",
              "    box-shadow: 0px 1px 3px 1px rgba(0, 0, 0, 0.15);\n",
              "    filter: drop-shadow(0px 1px 2px rgba(0, 0, 0, 0.3));\n",
              "    fill: #FFFFFF;\n",
              "  }\n",
              "</style>\n",
              "\n",
              "  <script>\n",
              "    async function quickchart(key) {\n",
              "      const charts = await google.colab.kernel.invokeFunction(\n",
              "          'suggestCharts', [key], {});\n",
              "    }\n",
              "    (() => {\n",
              "      let quickchartButtonEl =\n",
              "        document.querySelector('#df-b556c417-b0ae-4900-82c4-c879078ed093 button');\n",
              "      quickchartButtonEl.style.display =\n",
              "        google.colab.kernel.accessAllowed ? 'block' : 'none';\n",
              "    })();\n",
              "  </script>\n",
              "</div>\n",
              "    </div>\n",
              "  </div>\n"
            ]
          },
          "metadata": {},
          "execution_count": 50
        }
      ]
    },
    {
      "cell_type": "code",
      "source": [],
      "metadata": {
        "id": "JNrJ-zwa0TVY"
      },
      "id": "JNrJ-zwa0TVY",
      "execution_count": 50,
      "outputs": []
    }
  ],
  "metadata": {
    "kernelspec": {
      "display_name": "Python 3 (ipykernel)",
      "language": "python",
      "name": "python3"
    },
    "language_info": {
      "codemirror_mode": {
        "name": "ipython",
        "version": 3
      },
      "file_extension": ".py",
      "mimetype": "text/x-python",
      "name": "python",
      "nbconvert_exporter": "python",
      "pygments_lexer": "ipython3",
      "version": "3.9.16"
    },
    "colab": {
      "provenance": [],
      "include_colab_link": true
    }
  },
  "nbformat": 4,
  "nbformat_minor": 5
}